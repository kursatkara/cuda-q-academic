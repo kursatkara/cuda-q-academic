{
  "cells": [
    {
      "cell_type": "code",
      "execution_count": 1,
      "id": "eead95ce",
      "metadata": {
        "id": "eead95ce"
      },
      "outputs": [],
      "source": [
        "# SPDX-License-Identifier: Apache-2.0 AND CC-BY-NC-4.0\n",
        "#\n",
        "# Licensed under the Apache License, Version 2.0 (the \"License\");\n",
        "# you may not use this file except in compliance with the License.\n",
        "# You may obtain a copy of the License at\n",
        "#\n",
        "# http://www.apache.org/licenses/LICENSE-2.0\n",
        "#\n",
        "# Unless required by applicable law or agreed to in writing, software\n",
        "# distributed under the License is distributed on an \"AS IS\" BASIS,\n",
        "# WITHOUT WARRANTIES OR CONDITIONS OF ANY KIND, either express or implied.\n",
        "# See the License for the specific language governing permissions and\n",
        "# limitations under the License."
      ]
    },
    {
      "cell_type": "markdown",
      "id": "287d2b16",
      "metadata": {
        "id": "287d2b16"
      },
      "source": [
        "# Quick Start to Quantum Computing with CUDA-Q\n",
        "# Lab 1 - Start Small: Quantum programming with one qubit\n",
        "$\\renewcommand{\\ket}[1]{|#1\\rangle}$\n"
      ]
    },
    {
      "cell_type": "markdown",
      "id": "9c120e4e",
      "metadata": {
        "id": "9c120e4e"
      },
      "source": [
        "## Overview\n",
        "\n",
        "This lab starts with an introduction to quantum computing by comparing it to classical computation. It specifically defines the concepts of qubits and quantum operations using both visual and mathematical representations. These two concepts are all you need to begin coding. By the end of the lab, you'll have written not just your first, but several quantum programs using CUDA-Q!\n",
        "\n",
        "**What you'll do:**\n",
        "* Define and visualize single-qubit states and operations\n",
        "* Write your first quantum programs\n",
        "* Interpret the results of a quantum program\n",
        "\n",
        "**Terminology you'll use:**\n",
        "* quantum state\n",
        "* probability amplitudes\n",
        "* superposition\n",
        "* kernel\n",
        "* quantum circuit\n",
        "* measurement\n",
        "* sample\n",
        "* quasi-probability distribution\n",
        "* sampling error\n",
        "\n",
        "**CUDA-Q syntax you'll use:**\n",
        "* defining a quantum kernel: `@cudaq.kernel`\n",
        "* qubit initialization: `cudaq.qvector` and `cudaq.qubit`\n",
        "* quantum gates: `x` and `h`\n",
        "* extracting information from a kernel: `get_state`, `sample`\n",
        "* visualization tools: `add_to_bloch_sphere`, `show`, `draw`\n",
        "\n",
        "\n",
        "\n"
      ]
    },
    {
      "cell_type": "markdown",
      "id": "b5046650",
      "metadata": {
        "id": "b5046650"
      },
      "source": [
        "Execute the cells below to load all the necessary packages for this lab."
      ]
    },
    {
      "cell_type": "code",
      "execution_count": 2,
      "id": "63383b12",
      "metadata": {
        "colab": {
          "base_uri": "https://localhost:8080/"
        },
        "id": "63383b12",
        "outputId": "47cee3e8-06ec-412b-b7bc-e816a5bbea95"
      },
      "outputs": [
        {
          "output_type": "stream",
          "name": "stdout",
          "text": [
            "Requirement already satisfied: cudaq in /usr/local/lib/python3.11/dist-packages (0.11.0)\n",
            "Requirement already satisfied: cuda-quantum-cu12==0.11.0 in /usr/local/lib/python3.11/dist-packages (from cudaq) (0.11.0)\n",
            "Requirement already satisfied: astpretty~=3.0 in /usr/local/lib/python3.11/dist-packages (from cuda-quantum-cu12==0.11.0->cudaq) (3.0.0)\n",
            "Requirement already satisfied: cuquantum-python-cu12>=25.03 in /usr/local/lib/python3.11/dist-packages (from cuda-quantum-cu12==0.11.0->cudaq) (25.3.0)\n",
            "Requirement already satisfied: numpy>=1.24 in /usr/local/lib/python3.11/dist-packages (from cuda-quantum-cu12==0.11.0->cudaq) (2.0.2)\n",
            "Requirement already satisfied: scipy>=1.10.1 in /usr/local/lib/python3.11/dist-packages (from cuda-quantum-cu12==0.11.0->cudaq) (1.15.3)\n",
            "Requirement already satisfied: requests>=2.31 in /usr/local/lib/python3.11/dist-packages (from cuda-quantum-cu12==0.11.0->cudaq) (2.32.3)\n",
            "Requirement already satisfied: nvidia-cublas-cu12~=12.0 in /usr/local/lib/python3.11/dist-packages (from cuda-quantum-cu12==0.11.0->cudaq) (12.5.3.2)\n",
            "Requirement already satisfied: nvidia-curand-cu12~=10.3 in /usr/local/lib/python3.11/dist-packages (from cuda-quantum-cu12==0.11.0->cudaq) (10.3.6.82)\n",
            "Requirement already satisfied: nvidia-cuda-runtime-cu12~=12.0 in /usr/local/lib/python3.11/dist-packages (from cuda-quantum-cu12==0.11.0->cudaq) (12.5.82)\n",
            "Requirement already satisfied: nvidia-cusolver-cu12~=11.4 in /usr/local/lib/python3.11/dist-packages (from cuda-quantum-cu12==0.11.0->cudaq) (11.6.3.83)\n",
            "Requirement already satisfied: nvidia-cuda-nvrtc-cu12~=12.0 in /usr/local/lib/python3.11/dist-packages (from cuda-quantum-cu12==0.11.0->cudaq) (12.5.82)\n",
            "Requirement already satisfied: custatevec-cu12~=1.8 in /usr/local/lib/python3.11/dist-packages (from cuquantum-python-cu12>=25.03->cuda-quantum-cu12==0.11.0->cudaq) (1.8.0)\n",
            "Requirement already satisfied: cutensornet-cu12~=2.7 in /usr/local/lib/python3.11/dist-packages (from cuquantum-python-cu12>=25.03->cuda-quantum-cu12==0.11.0->cudaq) (2.7.0)\n",
            "Requirement already satisfied: cudensitymat-cu12~=0.1 in /usr/local/lib/python3.11/dist-packages (from cuquantum-python-cu12>=25.03->cuda-quantum-cu12==0.11.0->cudaq) (0.1.0)\n",
            "Requirement already satisfied: cupy-cuda12x>=13.0 in /usr/local/lib/python3.11/dist-packages (from cuquantum-python-cu12>=25.03->cuda-quantum-cu12==0.11.0->cudaq) (13.3.0)\n",
            "Requirement already satisfied: nvidia-nvjitlink-cu12 in /usr/local/lib/python3.11/dist-packages (from nvidia-cusolver-cu12~=11.4->cuda-quantum-cu12==0.11.0->cudaq) (12.5.82)\n",
            "Requirement already satisfied: nvidia-cusparse-cu12 in /usr/local/lib/python3.11/dist-packages (from nvidia-cusolver-cu12~=11.4->cuda-quantum-cu12==0.11.0->cudaq) (12.5.1.3)\n",
            "Requirement already satisfied: charset-normalizer<4,>=2 in /usr/local/lib/python3.11/dist-packages (from requests>=2.31->cuda-quantum-cu12==0.11.0->cudaq) (3.4.2)\n",
            "Requirement already satisfied: idna<4,>=2.5 in /usr/local/lib/python3.11/dist-packages (from requests>=2.31->cuda-quantum-cu12==0.11.0->cudaq) (3.10)\n",
            "Requirement already satisfied: urllib3<3,>=1.21.1 in /usr/local/lib/python3.11/dist-packages (from requests>=2.31->cuda-quantum-cu12==0.11.0->cudaq) (2.4.0)\n",
            "Requirement already satisfied: certifi>=2017.4.17 in /usr/local/lib/python3.11/dist-packages (from requests>=2.31->cuda-quantum-cu12==0.11.0->cudaq) (2025.4.26)\n",
            "Requirement already satisfied: cutensor-cu12<3,>=2.2 in /usr/local/lib/python3.11/dist-packages (from cudensitymat-cu12~=0.1->cuquantum-python-cu12>=25.03->cuda-quantum-cu12==0.11.0->cudaq) (2.2.0)\n",
            "Requirement already satisfied: fastrlock>=0.5 in /usr/local/lib/python3.11/dist-packages (from cupy-cuda12x>=13.0->cuquantum-python-cu12>=25.03->cuda-quantum-cu12==0.11.0->cudaq) (0.8.3)\n"
          ]
        }
      ],
      "source": [
        "# Instructions for Google Colab. You can ignore this cell if you have cuda-q set up.\n",
        "# Run this notebook in a CPU runtime\n",
        "# Uncomment the line below and execute the cell to install cuda-q\n",
        "!pip install cudaq"
      ]
    },
    {
      "cell_type": "code",
      "execution_count": 3,
      "id": "111772f8",
      "metadata": {
        "id": "111772f8"
      },
      "outputs": [],
      "source": [
        "# install `qutip` and `ipywidgets` in the current Python kernel. Skip this if they are already installed.\n",
        "# `matplotlib` is required for all visualization tasks.\n",
        "# Make sure to restart your kernel if you execute this!\n",
        "# In a Jupyter notebook, go to the menu bar > Kernel > Restart Kernel.\n",
        "# In VSCode, click on the Restart button in the Jupyter toolbar.\n",
        "\n",
        "# The '\\' before the '>' operator is so that the shell does not misunderstand\n",
        "# the '>' qualifier for the bash pipe operation.\n",
        "\n",
        "import sys\n",
        "\n",
        "try:\n",
        "    import matplotlib.pyplot as plt\n",
        "    import qutip\n",
        "    import ipywidgets as widgets\n",
        "\n",
        "except ImportError:\n",
        "    print(\"Tools not found, installing. Please restart your kernel after this is done.\")\n",
        "    !{sys.executable} -m pip install qutip\\>=5 matplotlib\\>=3.5\n",
        "    !{sys.executable} -m pip install ipywidgets\n",
        "    print(\"\\nNew libraries have been installed. Please restart your kernel!\")"
      ]
    },
    {
      "cell_type": "code",
      "execution_count": 4,
      "id": "644b9c82",
      "metadata": {
        "id": "644b9c82"
      },
      "outputs": [],
      "source": [
        "# Necessary packages\n",
        "\n",
        "import cudaq\n",
        "import numpy as np\n",
        "import ipywidgets as widgets\n",
        "from ipywidgets import interactive_output, HBox, VBox\n",
        "from IPython.display import display, clear_output\n"
      ]
    },
    {
      "cell_type": "code",
      "source": [
        "# Clone the full repository (only need to do this once)\n",
        "!git clone https://github.com/NVIDIA/cuda-q-academic.git\n",
        "\n",
        "# Append the interactive_widget folder to the Python path\n",
        "import sys\n",
        "sys.path.append('/content/cuda-q-academic/quick-start-to-quantum/interactive_widget')\n",
        "\n",
        "# Now import your module\n",
        "from bloch_sphere_rotation import create_rotation_widget\n",
        "\n",
        "# Create and display the widget\n",
        "widget = create_rotation_widget()\n",
        "display(widget)\n"
      ],
      "metadata": {
        "colab": {
          "base_uri": "https://localhost:8080/",
          "height": 637,
          "referenced_widgets": [
            "343787371b57472c9119dd9f7ddb38f2",
            "01ea72c1f83d44e38687d1fb02187802",
            "3b210e115afe4d4c92c1458ddfd8f10e",
            "7dc488ace0144d9b9f1fd6edcbe23370",
            "279cef111f1d48d189f44c0b1eacaebc",
            "02fae3b4c858415588a98485e3c44e4a",
            "8ab1b1ac11414ee7aa9f14354c4d036d",
            "f50228f05d8043ca949762ca3c657e0d",
            "5c6d8bb6c749498792979aa812072338",
            "a664cf9a8bf84eec8ed1f2ea12a370f5",
            "703c6719a347411caf7278beef396ce2",
            "7c210e65e01343b79f5b5a5a63f3097a",
            "bc151f103fa34efb8038ee74080808e7",
            "00dc3aaeaea94a36aa4e7294c9249d19",
            "6b8c5cc076ac4cada3ab77b47791d737",
            "4ffc399af6564f91891a8aa4eec79940",
            "2db1af614ce148d99898d5ad53b93a1c",
            "8b335317e7434786966a28fe32edd95a",
            "d6e7c916bf3644df9b6fd078e8bc14c0",
            "9b2aad6332a84bbda79475536186e3a2",
            "c55ef43ef5d447aa82d9cce9c6fef958",
            "395be2efcbc94a71ae2926d1b3c33963"
          ]
        },
        "id": "gKT892Mh1dkF",
        "outputId": "4758c77e-6bd1-48ac-9485-b0cf6623c1f2"
      },
      "id": "gKT892Mh1dkF",
      "execution_count": 1,
      "outputs": [
        {
          "output_type": "display_data",
          "data": {
            "text/plain": [
              "VBox(children=(HTML(value='<h3>Visualize the Final Qubit State on the Bloch Sphere after Rotating about the X,…"
            ],
            "application/vnd.jupyter.widget-view+json": {
              "version_major": 2,
              "version_minor": 0,
              "model_id": "343787371b57472c9119dd9f7ddb38f2"
            }
          },
          "metadata": {}
        },
        {
          "output_type": "display_data",
          "data": {
            "text/plain": [
              "None"
            ]
          },
          "metadata": {}
        }
      ]
    },
    {
      "cell_type": "markdown",
      "id": "3082d973",
      "metadata": {
        "id": "3082d973"
      },
      "source": [
        "## 1.1 Overview of Quantum Computing\n",
        "\n",
        "Watch [this presentation](http://www.youtube.com/watch?v=gevJ5xU_WUA) to understand quantum computing fundamentals and discover the current challenges in developing practical quantum computers. You'll learn how GPUs and CUDA-Q are essential for both quantum simulation and the development of future accelerated quantum supercomputers. This overview might inspire you to continue learning how to program in CUDA-Q."
      ]
    },
    {
      "cell_type": "markdown",
      "id": "c2fa8e57-2f20-4d1b-a8c1-a8291da83fdc",
      "metadata": {
        "id": "c2fa8e57-2f20-4d1b-a8c1-a8291da83fdc"
      },
      "source": [
        "## 1.2 Define single-qubit states and operations\n",
        "\n",
        "Computation involves storing and manipulating information. What distinguishes quantum computing from classical computing is the way in which information is represented and manipulated. We'll first review how information is represented in classical or digital computing and then contrast this with how information is represented in a quantum program.\n"
      ]
    },
    {
      "cell_type": "markdown",
      "id": "8499ab12",
      "metadata": {
        "id": "8499ab12"
      },
      "source": [
        "### 1.2.1 Classical bits\n",
        "\n",
        "  The basic unit of information in classical computing is a *bit*. A bit stores information by taking on the value (sometimes referred to as a state) of either 0 or 1.  We can use the notation $b=0$ to describe a bit $b$ in the state $0$. One way to visualize this is an arrow (or a unit vector).  If the vector is pointing up, the bit is in the state 0 and if the vector points down, the bit is in the state 1.  Classical computing can change the state of a bit by changing it from a 0 to a 1 or vice versa. This operation is known as a bit-flip, and visually looks like flipping the direction of the vector from up to down or vice versa.\n",
        "\n",
        "<img src=\"https://raw.githubusercontent.com/NVIDIA/cuda-q-academic/main/images/bits.png\" alt=\"vectors representing bits in the state 0 and the state 1\" width=\"200\"/>"
      ]
    },
    {
      "cell_type": "markdown",
      "id": "65e19333",
      "metadata": {
        "id": "65e19333"
      },
      "source": [
        "### 1.2.2 Qubits"
      ]
    },
    {
      "cell_type": "markdown",
      "id": "fe371889",
      "metadata": {
        "id": "fe371889"
      },
      "source": [
        "In quantum computing, instead of bits, information is stored in *qubits*.  While a single bit can only be in one of 2 states at a given time, a single qubit can be in one of infinitely many states! This suggests that we might be able to handle information more efficiently with qubits than we could with bits.\n",
        "\n",
        "There is a catch.  While there are infinitely many quantum states, we can't necessarily access all the information stored in these infinitely many states.  This is due to the uncertainty principle in quantum mechanics. Restriciting our focus on how uncertainty arises in quantum computation, let's look at the general structure of a quantum program. Many quantum programs start with initializing a quantum state, manipulating the state, and then measuring it.  When we measure a qubit, the act of measuring can change the quantum state of the qubit. For example, measuring may collapse the quantum state to of a single qubit to one of two classical states (e.g., 0 or 1). Measurement is how we extract useful information from a qubit. We'll explore this idea later in the notebook.\n",
        "\n",
        "To visualize qubits, we will extend the idea of representing a bit as a unit vector pointing up or down. A qubit can be thought of as a unit vector pointing in any direction in 3D.  In other words, we can visualize a qubit as a vector on a sphere. The literature refers to this sphere as the Bloch sphere.  As a generalization of bits, we'll identify the vector pointing up (i.e., in the direction of the positive $z$-axis) with the zero state (see figure below).\n",
        "\n",
        "<img src=\"https://raw.githubusercontent.com/NVIDIA/cuda-q-academic/main/images/Blochsphere0.png\" alt=\"Bloch sphere representation of \\ket{0}\" width=\"200\"/>\n",
        "\n",
        "The zero state is denoted by $\\ket{0}$ and this notation is read as \"ket zero\" or \"zero ket\". The word \"ket\" comes from Dirac notation, which we'll describe in more detail later. The vector pointing down will represent the one state, which is abbreviated as $\\ket{1}$ and referred to as \"ket one\" or \"one ket\".\n",
        "\n",
        "In addition to the $\\ket{0}$  and $\\ket{1}$ states, there are infinitely many other quantum states.  Each of the infinitely many vectors on the Bloch sphere represents a different state.\n",
        "\n",
        "\n",
        "<img src=\"https://raw.githubusercontent.com/NVIDIA/cuda-q-academic/main/images/BlochsphereManyStates.png\" alt=\"Several states represented on the Bloch Sphere\" width=\"200\"/>\n",
        "\n",
        "Execute the code block below to generate a widget that you can interact with to visualize rotating the $\\ket{0}$ state about the $X$, $Y$, and $Z$ axis, in that order, by angles $\\theta_X$, $\\theta_Y$, and $\\theta_Z$, respectively. You can control the sliders with your mouse, or type in a value in the box to the right of the slider. For now, do not concern yourself with the code itself.  We'll explain it in due time. For now, think of it as a preview to CUDA-Q.  How many different quantum states can you generate starting with the $\\ket{0}$ state and just using rotations about the $X$, $Y$, and $Z$ axis?"
      ]
    },
    {
      "cell_type": "code",
      "execution_count": 2,
      "id": "94aa0f1e",
      "metadata": {
        "colab": {
          "base_uri": "https://localhost:8080/",
          "height": 637,
          "referenced_widgets": [
            "08d7804be3904fb2aefba19350d220aa",
            "b1495a3dd30b470e98b24e3d1c7100de",
            "54eb63f6ead144b79e279e6d3f449b82",
            "85a6bc4f8a0f43b8a502fe606eaed47f",
            "c131034e92f2494bb96c3a68002e913c",
            "8c072b364f5d4af9b9c35fdf58ac1b2f",
            "afb23159e8ad499598b3bf50184c1405",
            "024c0037793941e3b5b21e3f360f95a5",
            "a4a5b7bdd86a468e83432997171aae59",
            "b01bf077537c44e0b26a2c714f557619",
            "f517fd3ac26f46cbb73271fc40107bad",
            "88e807451ada48d3903ee74b589f2bf5",
            "cc55d43e4892452f855eadf136da586c",
            "167f5fd68ba541eeb9184048bb07f8fe",
            "142875bf07d547478cd275fcf050b4c3",
            "9db98168afe34268b2ba97d6f5b43258",
            "5eef7e90c29d473b874053e50374aa83",
            "9701f7386f844d4fbd4d7219e6658264",
            "445da1c2fadb457fab702e2b790675a6",
            "a0a8260bc5d2455ab36f6d542da6ce73",
            "9b2bf163802444fe89c19a8b86a10ac4",
            "d19dbf253e4b46fa980c6d286ec33fd1"
          ]
        },
        "id": "94aa0f1e",
        "outputId": "c2babfda-9fff-4f88-b77e-fd9c9749c1b6"
      },
      "outputs": [
        {
          "output_type": "display_data",
          "data": {
            "text/plain": [
              "VBox(children=(HTML(value='<h3>Visualize the Final Qubit State on the Bloch Sphere after Rotating about the X,…"
            ],
            "application/vnd.jupyter.widget-view+json": {
              "version_major": 2,
              "version_minor": 0,
              "model_id": "08d7804be3904fb2aefba19350d220aa"
            }
          },
          "metadata": {}
        },
        {
          "output_type": "display_data",
          "data": {
            "text/plain": [
              "None"
            ]
          },
          "metadata": {}
        }
      ],
      "source": [
        "# Execute this cell to enable the interactive widget\n",
        "\n",
        "import sys\n",
        "sys.path.append('interactive_widget')\n",
        "from bloch_sphere_rotation import create_rotation_widget\n",
        "\n",
        "# Create and display a new widget\n",
        "widget = create_rotation_widget()\n",
        "display(widget)\n"
      ]
    },
    {
      "cell_type": "markdown",
      "id": "1b3d71dd",
      "metadata": {
        "id": "1b3d71dd"
      },
      "source": [
        ">**FAQ:** *How does \"infinitely many states\" of a qubit differ from \"analog computing\"? That is also infinite, no?*  \n",
        "\n",
        ">**Answer** Qubits can demonstrate the quantum properties of superposition, entanglement, and interference. Additionally, in analog computing, the way in which information is extracted from an analog state differs from what happens in quantum computing.  This is due to the way states are measured and the limitations imposed by the uncertainty principle in quantum mechanics.  We'll experiment with measurement and superposition in this notebook. Entanglement and interference are covered in the next notebook.\n",
        "\n",
        "Now that we have a visual representation of a qubit, let's establish some notation that will allow us to describe states and carry out quantum operations on these states.  We've already introduced the states $\\ket{0}$ and $\\ket{1}$.  We can identify $\\ket{0}$ with the vector $\\begin{pmatrix} 1 \\\\ 0\\end{pmatrix}$ and $\\ket{1}$ with the vector $\\begin{pmatrix} 0\\\\ 1\\end{pmatrix}$.  Then, for the purposes of this tutorial, any other quantum state $\\ket{\\psi}$ on the Bloch sphere can be written as a linear combination of $\\ket{0}$ and $\\ket{1}$ .  In other words, quantum states take the form\n",
        "\n",
        "$$\n",
        "\\ket{\\psi} = \\alpha\\ket{0}+\\beta\\ket{1},\n",
        "$$\n",
        "\n",
        "where $\\alpha$ and $\\beta$ are complex numbers satisfying the equation $|\\alpha|^2+|\\beta|^2 = 1$. The coefficients $\\alpha$ and $\\beta$ are referred to as *probability amplitudes*, or *amplitudes* for short. The restriction that $|\\alpha|^2+|\\beta|^2 = 1$ ensures that the state is on the Bloch sphere.\n",
        "\n",
        "Let's see how the expression $\n",
        "\\ket{\\psi} = \\alpha\\ket{0}+\\beta\\ket{1},\n",
        "$ maps to the Bloch sphere. First, we rewrite the coefficients $\\alpha$ and $\\beta$ in the following manner:\n",
        "\n",
        "$$\n",
        "\\alpha = \\cos(\\frac{\\theta}{2})\\text{ and }\\beta = \\sin(\\frac{\\theta}{2})e^{i\\varphi},\n",
        "$$\n",
        "where $\\theta$ is a value in the interval $[0,\\pi]$ and $\\varphi$ is a value in the interval $[0,2\\pi)$. Using spherical coordinates we can draw the state on the Bloch sphere following the convention in the image below:\n",
        "\n",
        "<img src=\"https://raw.githubusercontent.com/NVIDIA/cuda-q-academic/main/images/BlochsphereAngles.png\" alt=\"Image of a State on the Bloch Sphere with spherical coordinates indicated\" width=\"200\"/>\n",
        "\n",
        "Execute the cell block below to open up an interactive tool to visualize $\\ket{\\psi} = \\cos{\\frac{\\theta}{2}}\\ket{0}+\\sin{\\frac{\\theta}{2}}e^{i\\varphi}\\ket{1}$ for various values of $\\theta$ and $\\varphi$.  As you experiment, think about the following questions: What effect does changing $\\varphi$ have on the position of the vector on the Bloch Sphere?  What combination of values of $\\theta$ and $\\varphi$ produces a state pointing along the $x$-axis?"
      ]
    },
    {
      "cell_type": "code",
      "execution_count": null,
      "id": "f936914e",
      "metadata": {
        "id": "f936914e"
      },
      "outputs": [],
      "source": [
        "# Execute this cell to visualize the state |ψ⟩ = cos(θ/2)|0⟩ + sin(θ/2)e^{iφ}|1⟩ on the Bloch Sphere\n",
        "import sys\n",
        "sys.path.append('interactive_widget')\n",
        "from bloch_sphere_state_visualization import create_state_widget\n",
        "\n",
        "# Create and display a new widget\n",
        "widget = create_state_widget()\n",
        "display(widget)\n"
      ]
    },
    {
      "cell_type": "markdown",
      "id": "643b816a",
      "metadata": {
        "id": "643b816a"
      },
      "source": [
        "For example, the state $$\\ket{-} = \\frac{1}{\\sqrt{2}}\\ket{0}-\\frac{1}{\\sqrt{2}}\\ket{1}$$ can be rewritten as\n",
        "$$\n",
        "\\ket{-} = \\cos(\\frac{\\pi}{4})\\ket{0}+\\sin(\\frac{\\pi}{4})e^{i\\pi}\\ket{1},\n",
        "$$\n",
        "where $\\theta = \\frac{\\pi}{2}$ and $\\varphi = \\pi$.\n",
        "For an explanation of how $\\theta$ and $\\varphi$ are found in general, check out this [source](https://davidmeyer.github.io/qc/bloch_sphere.pdf).\n",
        "Once we have found $\\theta$ and $\\varphi$, we can draw the state on the Bloch sphere. In particular, the state $\\ket{-}$ is a vector pointing in the direction of the negative $x$-axis, which gives some explanation for the jargon: \"minus state.\"\n",
        "\n",
        "<img src=\"https://raw.githubusercontent.com/NVIDIA/cuda-q-academic/main/images/BlochsphereMinus.png\" alt=\"Minus state represented on the Bloch Sphere\" width=\"200\"/>\n"
      ]
    },
    {
      "cell_type": "markdown",
      "id": "6eadb2fb",
      "metadata": {
        "id": "6eadb2fb"
      },
      "source": [
        "> **Take note:** In order to do any computation, we will need a mechanism for changing the state of a qubit.  Quantum computing allows us to change the state of a single qubit through quantum operations which can be visualized as rotations of the sphere. We'll explore this in more detail later in this notebook.  \n",
        "\n"
      ]
    },
    {
      "cell_type": "markdown",
      "id": "50d9941b",
      "metadata": {
        "id": "50d9941b"
      },
      "source": [
        "### 1.2.3 Using CUDA-Q to define and visualize a quantum state\n",
        "\n",
        "We are now ready to use CUDA-Q!\n",
        "\n",
        "> **FAQ:** *What is CUDA-Q?*\n",
        "\n",
        "> **Answer:** [CUDA-Q](https://developer.nvidia.com/cuda-q) is a platform designed for hybrid application development. That is, CUDA-Q allows programming in a heterogeneous environment that leverages not only quantum processors and quantum emulators, but also CPUs and GPUs. CUDA-Q is interoperable with CUDA and the CUDA software ecosystem for GPU-accelerated applications. CUDA-Q consists of both C++ and Python extensions. In these notebooks, we'll use Python.\n",
        "\n",
        " Let's use CUDA-Q to create the quantum states of single qubits and visualize them on the Bloch sphere.  CUDA-Q uses the `cudaq.kernel` decorator on functions to define quantum states, and, as we will see later, CUDA-Q kernels can also define quantum circuits.  "
      ]
    },
    {
      "cell_type": "code",
      "execution_count": null,
      "id": "15b5ecf2",
      "metadata": {
        "id": "15b5ecf2"
      },
      "outputs": [],
      "source": [
        "# Defining the minus state in CUDA-Q\n",
        "\n",
        "# First we define a vector of complex numbers\n",
        "# for the coefficients alpha and beta\n",
        "# of the state |psi> = alpha|0> + beta|1>,\n",
        "# where alpha = 1/sqrt(2)+0j and beta = -1/sqrt(2)+0j\n",
        "c = [complex(np.sqrt(2)/2, 0), complex(-np.sqrt(2)/2,0)]\n",
        "\n",
        "# Define a cudaq.kernel to represent the minus state\n",
        "@cudaq.kernel\n",
        "def minus_state():\n",
        "    q = cudaq.qvector(c)"
      ]
    },
    {
      "cell_type": "markdown",
      "id": "fba8e648",
      "metadata": {
        "id": "fba8e648"
      },
      "source": [
        "\n",
        "Once we have defined a kernel, we can call upon the `get_state` command to read out the state from the kernel.  Then, we can add this state to a Bloch sphere using `add_to_bloch_sphere` which is displayed with the `show` command and the file can be saved using the `save` option."
      ]
    },
    {
      "cell_type": "code",
      "execution_count": null,
      "id": "13f3c510",
      "metadata": {
        "id": "13f3c510",
        "outputId": "a52837f1-7441-4018-925d-87b9fe3bc940"
      },
      "outputs": [
        {
          "data": {
            "image/png": "[encoded data removed]",
            "text/plain": [
              "<Figure size 500x500 with 1 Axes>"
            ]
          },
          "metadata": {},
          "output_type": "display_data"
        }
      ],
      "source": [
        "# Visualizing a state in CUDA-Q\n",
        "\n",
        "# Define a sphere object representing the state of the single qubit\n",
        "sphere = cudaq.add_to_bloch_sphere(cudaq.get_state(minus_state))\n",
        "\n",
        "# Display the Bloch sphere\n",
        "cudaq.show(sphere)\n",
        "\n",
        "# Save the Bloch sphere image to a file\n",
        "sphere.save('MinusState.png')\n"
      ]
    },
    {
      "cell_type": "markdown",
      "id": "d5fc3056",
      "metadata": {
        "id": "d5fc3056"
      },
      "source": [
        "**Exercise 1:**  Create a Bloch sphere showing the states: $\\ket{0}, \\ket{1}, \\ket{+}$, and $\\ket{i} = \\frac{1}{\\sqrt{2}}\\ket{0}+\\frac{i}{\\sqrt{2}}\\ket{1}$.\n",
        "\n",
        "Hint: $e^{i\\pi} = -1$ and $e^{i\\frac{\\pi}{2}}=i$.\n",
        "\n",
        ">**CUDA-Q Quick Tip:** The `add_to_bloch_sphere` command can accept a single state as we demonstrated above, or a list of states that can be graphed in an array of separate Bloch spheres. You can read more about this visualization tool [here](https://nvidia.github.io/cuda-quantum/latest/examples/python/visualization.html)."
      ]
    },
    {
      "cell_type": "code",
      "execution_count": null,
      "id": "5debf1e5",
      "metadata": {
        "id": "5debf1e5"
      },
      "outputs": [],
      "source": [
        "# EXERCISE 1\n",
        "\n",
        "# First we define vectors for the coefficients alpha and beta\n",
        "# of the states |0>, |1>, |+>, and |i>, where each state is written\n",
        "# in the form |psi> = alpha|0> + beta|1> . Here alpha and beta are\n",
        "# of the form:\n",
        "# alpha = a_real + (a_imaginary)i\n",
        "# beta = b_real + (b_imaginary)i\n",
        "# with real values for the coefficients\n",
        "# a_real, a_imaginary, b_real, b_imaginary\n",
        "\n",
        "# c0 is a list of complex coefficients for the state |0>\n",
        "c0 = [complex(a_real, a_imaginary), complex(b_real, b_imaginary)] ###FIX_ME###\n",
        "c1 = ###FIX_ME###      # list of complex coefficients for the state |1>\n",
        "c2 = ###FIX_ME###      # list of complex coefficients for the state |+>\n",
        "c3 = ###FIX_ME###      # list of complex coefficients for the state |i>\n",
        "\n",
        "list_of_states = [c0,c1,c2,c3]\n",
        "\n",
        "# Define a cudaq.kernel to represent the state with given coefficients\n",
        "@cudaq.kernel\n",
        "def kernel_for_state(c:list[complex]):\n",
        "    q = cudaq.qvector(c)\n",
        "\n",
        "# Define a list of Bloch spheres, one sphere for each of the 4 states\n",
        "blochSphereList = []\n",
        "# Generate the 4 states by calling the kernel_for_state kernel for each list of coefficients\n",
        "for c in list_of_states:\n",
        "    sphere = cudaq.add_to_bloch_sphere(cudaq.get_state(kernel_for_state, c))\n",
        "    blochSphereList.append(sphere)\n",
        "\n",
        "# Display the Bloch spheres side by side in 2 rows and 2 columns\n",
        "cudaq.show(blochSphereList, nrows=2, ncols=2)"
      ]
    },
    {
      "cell_type": "markdown",
      "id": "92a938d1",
      "metadata": {
        "id": "92a938d1"
      },
      "source": [
        "## 1.3 Writing your first quantum programs\n",
        "\n",
        "Now that we understand qubits and have created quantum state representations in CUDA-Q, let's move on to actual quantum computation. We're ready to write our first quantum program!\n",
        "\n",
        "The general structure of a quantum program is:\n",
        "* Encode information into the quantum state by initializing qubit(s)\n",
        "* Manipulate the quantum state of the qubit(s) with quantum gate(s)\n",
        "* Extract information from the quantum state by measuring the state of the qubit(s)\n",
        "\n",
        "These three steps are outlined in the diagram below:\n",
        "\n",
        "<img src=\"https://raw.githubusercontent.com/NVIDIA/cuda-q-academic/main/images/circuit.png\" alt=\"image of a quantum circuit with the three partsL encode information, manipulate quantum states, extract information\" width=\"200\"/>\n",
        "\n",
        "In this section, we'll look at a few simple examples of quantum programs to illustrate these steps.  Throughout the notebook, we'll apply this template to generate and run more interesting examples.  Let's begin with two very simple quantum programs: a bit flip program and a Hello World program. Through these examples, you'll learn about two other important concepts: measurement and superposition.\n"
      ]
    },
    {
      "cell_type": "markdown",
      "id": "85b8182e",
      "metadata": {
        "id": "85b8182e"
      },
      "source": [
        "### 1.3.1 Bit Flip\n",
        "\n",
        "Let's walk through the three steps of writing the Bit Flip program in CUDA-Q. This program is a quantum version of the classical `NOT` operation that flips a bit from $0$ to $1$ and vice versa.\n",
        "\n",
        "Outline of the Bit Flip program: Going from $\\ket{0}$ to $\\ket{1}$.\n",
        "* Initialize the zero state\n",
        "* Manipulate the quantum state by applying the bit flip gate (the `x` gate)\n",
        "* Measure the qubit\n",
        "\n",
        "Let's start by defining a kernel and specifying that this kernel only contains one qubit.  \n",
        "\n",
        "> **CUDA-Q Quick Tip:**  The `cudaq.qvector` command has two purposes.  When `cudaq.qvector` accepts a `list` as we saw in the `minus_state` example in the previous section, the kernel is initialized in the state corresponding to the coefficients from the list.  In the example below, `cudaq.qvector` will accept an `int` value and will allocate that number of qubits to the kernel.  These qubits, by default, are initialized in the zero-state."
      ]
    },
    {
      "cell_type": "code",
      "execution_count": null,
      "id": "094ae2e2",
      "metadata": {
        "id": "094ae2e2"
      },
      "outputs": [],
      "source": [
        "# Writing a bit flip program one step at a time\n",
        "# Step 1: Create a kernel with one qubit initialized in the zero state\n",
        "\n",
        "@cudaq.kernel\n",
        "def bitflip():\n",
        "    # Allocate one qubit to the kernel. It is by default initialized in the zero state\n",
        "    qubit = cudaq.qvector(1)\n",
        "\n",
        "    # Manipulate the quantum state by applying the bit flip gate (the `x` gate)\n",
        "    # To be completed later in this section\n",
        "\n",
        ""
      ]
    },
    {
      "cell_type": "markdown",
      "id": "e1da83c5",
      "metadata": {
        "id": "e1da83c5"
      },
      "source": [
        "Let's check to see that the code above initiated a qubit in the zero state by getting the state and plotting it on the Bloch sphere."
      ]
    },
    {
      "cell_type": "code",
      "execution_count": null,
      "id": "1c91554c",
      "metadata": {
        "id": "1c91554c"
      },
      "outputs": [],
      "source": [
        "# Visualizing a state of the bitflip kernel before the x gate is applied\n",
        "\n",
        "# Define a sphere object representing the state of the single qubit\n",
        "sphere = cudaq.add_to_bloch_sphere(cudaq.get_state(bitflip))\n",
        "\n",
        "# Display the Bloch sphere\n",
        "cudaq.show(sphere)"
      ]
    },
    {
      "cell_type": "markdown",
      "id": "32c04732",
      "metadata": {
        "id": "32c04732"
      },
      "source": [
        "Next we want to manipulate the zero state, $\\ket{0}$, and change it to the one state, $\\ket{1}$.  One way of doing this is by rotating the Bloch sphere 180 degrees around the x-axis.  Mathematically, this can be carried out through matrix multiplication.  Recall that $\\ket{0}=\\begin{pmatrix}1\\\\0\\end{pmatrix}$ and $\\ket{1}=\\begin{pmatrix}0\\\\1\\end{pmatrix}$. Notice that the matrix $X=\\begin{pmatrix}0 & 1 \\\\ 1 & 0 \\end{pmatrix}$ has the property that we're looking for.  Namely, multiplying the zero state by $X$ returns the one state: $$X\\ket{0} = \\ket{1}.$$  \n",
        "\n",
        "In general, we can change a quantum state through multiplication by a unitary matrix. (The definition of a unitary matrix is not critical for this notebook, but if you're curious you can learn more in [chapter 1 of Quantum Computer Science](http://mermin.lassp.cornell.edu/qcomp/CS483.html).) In the context of a quantum program, we refer to matrix multiplication by a unitary matrix $U$ as applying a $U$-gate.   In CUDA-Q, the $X$-gate is implemented with the syntax `x`.\n",
        "\n",
        "> **CUDA-Q Quick Tip:** You can view all the built-in quantum gate operations in CUDA-Q [here](https://nvidia.github.io/cuda-quantum/latest/api/default_ops.html#unitary-operations-on-qubits).\n",
        "\n",
        "Let's go ahead and apply the `x`-gate to the qubit in our kernel.\n",
        "\n"
      ]
    },
    {
      "cell_type": "code",
      "execution_count": null,
      "id": "7aace69f",
      "metadata": {
        "id": "7aace69f"
      },
      "outputs": [],
      "source": [
        "# Writing a bit flip program one step at a time\n",
        "# Step 2: Apply the X-gate\n",
        "\n",
        "@cudaq.kernel\n",
        "def bitflip():\n",
        "    # Allocate 1 qubit initialized in the zero state\n",
        "    qubit = cudaq.qvector(1)\n",
        "\n",
        "    # Manipulate the quantum state by applying the bit flip gate (the `x` gate)\n",
        "    x(qubit[0]) # Apply the x-gate to the first qubit, which is indexed with 0\n",
        "\n",
        ""
      ]
    },
    {
      "cell_type": "markdown",
      "id": "e949f32c",
      "metadata": {
        "id": "e949f32c"
      },
      "source": [
        "Let's use the `get_state` command again to check that the `bitflip` kernel does what we expect, that is, change the state from $\\ket{0}$ to $\\ket{1}.$"
      ]
    },
    {
      "cell_type": "code",
      "execution_count": null,
      "id": "377a4d09",
      "metadata": {
        "id": "377a4d09"
      },
      "outputs": [],
      "source": [
        "# Visualizing the action of the bitflip kernel\n",
        "\n",
        "sphere = cudaq.add_to_bloch_sphere(cudaq.get_state(bitflip))\n",
        "cudaq.show(sphere)"
      ]
    },
    {
      "cell_type": "markdown",
      "id": "eaff8357",
      "metadata": {
        "id": "eaff8357"
      },
      "source": [
        "The process of visualizing the state of a kernel on a Bloch sphere using `get_state` is not very efficient and won't be useful when we have many qubits. Firstly, Bloch spheres can only represent the state of a single qubit.  But also, the `get_state` command may be overkill for the amount of information we can or need to recover from several qubits.  As we'll see in the next lab, to describe the state of $n$ qubits we need to compute $2^n$ probability amplitudes. This may be prohibilitively expensive to compute in terms of time and memory resources.\n",
        "\n",
        "Fortunately, there are other visualization tools that we can use to check the kernels that we create.  Some kernels can be represented as\n",
        "quantum circuit diagrams. CUDA-Q includes the `cudaq.draw` command to generate an ascii image of the circuit diagram of a kernel.  Basically, each row of the circuit diagram represents a qubit. In this case, we only have one qubit, which by default is named `q0` in the diagram. Operations applied to the qubit are shown as boxes and are read from left to right. Our kernel has only one gate, the `x` gate. We'll discuss these diagrams in more detail later after we've seen a few other examples."
      ]
    },
    {
      "cell_type": "code",
      "execution_count": null,
      "id": "381939ac",
      "metadata": {
        "id": "381939ac",
        "outputId": "086e2d0e-3881-4b75-92cd-5bf70b1ae5ab"
      },
      "outputs": [
        {
          "name": "stdout",
          "output_type": "stream",
          "text": [
            "     ╭───╮\n",
            "q0 : ┤ x ├\n",
            "     ╰───╯\n",
            "\n"
          ]
        }
      ],
      "source": [
        "# Drawing the circuit representation of the bit flip kernel\n",
        "\n",
        "print(cudaq.draw(bitflip))"
      ]
    },
    {
      "cell_type": "markdown",
      "id": "9d9894a1",
      "metadata": {
        "id": "9d9894a1"
      },
      "source": [
        "> **FAQ:** *What's the difference between a quantum kernel and a quantum circuit?*\n",
        "\n",
        "> **Answer:** Quantum kernels are more general than quantum circuits.  That is, every quantum circuit is a quantum kernel, but not every quantum kernel is a quantum circuit. Quantum kernels are defined as functions that are executed on a quantum processing unit (QPU) or a simulated QPU. Quantum kernels can be combined with classical functions to create quantum-classical applications that can be executed on a heterogeneous system of QPUs, GPUs, and CPUs to solve real-world problems."
      ]
    },
    {
      "cell_type": "markdown",
      "id": "aa1fbded",
      "metadata": {
        "id": "aa1fbded"
      },
      "source": [
        "The final step of our first quantum program is to extract information from the quantum state of the qubit.  This is done with the `sample` command. The sample command runs the kernel and takes a measurement `shots_count`-many times\n",
        "\n",
        "In our example, applying the `x`-gate to the zero state will always result in the one state, unless of course there are errors in the circuit execution.  That's a topic for another day.  Now, we'll assume that all of our kernel executions are error free.  In this case, we would expect to see the one state returned for each kernel execution. Run the cell block below to see the results."
      ]
    },
    {
      "cell_type": "code",
      "execution_count": null,
      "id": "eed84dcc",
      "metadata": {
        "id": "eed84dcc"
      },
      "outputs": [],
      "source": [
        "# Sampling the bit flip kernel\n",
        "shots = 123\n",
        "results = cudaq.sample(bitflip, shots_count=shots)\n",
        "\n",
        "# The output of the sample command looks like a dictionary, but is of a different type\n",
        "print(\"Results from sampling {} times: {}\\n\".format(shots, results))\n",
        "print(\"Although the results appear to be of type dict, \\n the type of the results from the sample \\n command is {}.\\n\".format(type(results)))\n",
        "\n",
        "# Often it will be useful to identify the most probable outcome\n",
        "# and the probability of this outcome\n",
        "most_probable_result = results.most_probable()\n",
        "probability = results.probability(most_probable_result)\n",
        "print(\"Most probable result: \" + most_probable_result)\n",
        "print(\"Measured with probability \" + str(probability), end='\\n\\n')\n"
      ]
    },
    {
      "cell_type": "markdown",
      "id": "3d81d4a3",
      "metadata": {
        "id": "3d81d4a3"
      },
      "source": [
        "You may notice that the result of executing the `bitflip` kernel is a (classical) $1$, which is technically a different type than the quantum state $\\ket{1}$.  Let's look at the Hello World example below which will help illustrate what is going on with the `sample` command and how information is extracted from a quantum state."
      ]
    },
    {
      "cell_type": "markdown",
      "id": "98d10d00",
      "metadata": {
        "id": "98d10d00"
      },
      "source": [
        "> **CUDA-Q Quick Tip:**\n",
        "The `sample` command runs the kernel and takes a measurement `shots_count`-many times. The result of the `sample` command is a `SampleReslult` dictionary of the distribution of the bitstrings resulting from the sampling.\n",
        "To create a standard Python dictionary of type dict from an object (say `sample_results`) of type `cudaq.SampleResult`, you can use a command such as `asDict = {k:v for k,v in sample_results.items()}`."
      ]
    },
    {
      "cell_type": "markdown",
      "id": "3358d45b",
      "metadata": {
        "id": "3358d45b"
      },
      "source": [
        "### 1.3.3 Hello World example"
      ]
    },
    {
      "cell_type": "markdown",
      "id": "ba3123fa",
      "metadata": {
        "id": "ba3123fa"
      },
      "source": [
        "To get a better appreciation how quantum programs differ from classical programs, let's look at a Hello World program, which revisits the minus state kernel and will give us the opportunity to discuss two important concepts: superposition and measurement.\n",
        "\n",
        "Hello World: Generate and measure the Minus State\n",
        "* Initialize one qubit in the one-state\n",
        "* Manipulate the quantum state by transforming it into the minus state\n",
        "* Extract information from the quantum state by taking measurement(s)"
      ]
    },
    {
      "cell_type": "markdown",
      "id": "ff24b78b",
      "metadata": {
        "id": "ff24b78b"
      },
      "source": [
        "We already created a kernel (`minus_state`) to initialize the minus state by passing a list of coefficients to the `cudaq.qvector` command.  There are other ways to initialize a state if we know the gate operations that generate it. The Hadamard operator applied to $\\ket{1}$ generates the state $\\ket{-}$."
      ]
    },
    {
      "cell_type": "markdown",
      "id": "1fcf17d7",
      "metadata": {
        "id": "1fcf17d7"
      },
      "source": [
        "The Hadamard operator is the matrix $$H =  \\frac{1}{\\sqrt{2}}\\begin{pmatrix} 1&  1 \\\\ 1 &  -1\\end{pmatrix}.$$\n",
        "\n",
        "Notice that if we multiply $H$ and $\\ket{1}$ we get $\\ket{-}$:  \n",
        "\n",
        "$$ H\\ket{1} =  \\frac{1}{\\sqrt{2}}\\begin{pmatrix} 1&  1 \\\\ 1 &  -1\\end{pmatrix}\\begin{pmatrix} 0 \\\\ 1 \\end{pmatrix} = \\frac{1}{\\sqrt{2}}\\begin{pmatrix} 1 \\\\   -1\\end{pmatrix} = \\ket{-}.$$\n",
        "\n",
        "This calculation suggests a way to generate the minus state:\n",
        "\n",
        "* First intialize the one state and then apply the Hadamard gate using the CUDA-Q command `h`.  \n",
        "* This leaves the question: how do we initialize the one state? The answer is implicit in the previous example: apply the `x`-gate to the zero-state.  \n",
        "\n",
        "We now have a plan, so let's code it up."
      ]
    },
    {
      "cell_type": "code",
      "execution_count": null,
      "id": "cd5c8b45",
      "metadata": {
        "id": "cd5c8b45"
      },
      "outputs": [],
      "source": [
        "# Kernel for the minus state\n",
        "\n",
        "@cudaq.kernel\n",
        "def minus_kernel():\n",
        "    # Allocate a qubit\n",
        "    qvector = cudaq.qvector(1)\n",
        "\n",
        "    # Initialize the state |1>\n",
        "    x(qvector)\n",
        "\n",
        "    # Apply the Hadamard gate\n",
        "    h(qvector)\n",
        "\n",
        "# Draw the circuit to check our work\n",
        "print(cudaq.draw(minus_kernel))"
      ]
    },
    {
      "cell_type": "markdown",
      "id": "dd6a9a66",
      "metadata": {
        "id": "dd6a9a66"
      },
      "source": [
        "**EXERCISE 2**: Edit the code block below to check your work by graphing the Bloch sphere of the state generated by `minus_kernel`."
      ]
    },
    {
      "cell_type": "code",
      "execution_count": null,
      "id": "65459fcf",
      "metadata": {
        "id": "65459fcf"
      },
      "outputs": [],
      "source": [
        "# EXERCISE 2\n",
        "\n",
        "# Visualizing the action of the minus_kernel\n",
        "\n",
        "sphere = ##FIX_ME##\n",
        "cudaq.show(sphere)"
      ]
    },
    {
      "cell_type": "markdown",
      "id": "80a156d7",
      "metadata": {
        "id": "80a156d7"
      },
      "source": [
        "Let's sample the `minus_kernel` and examine the results."
      ]
    },
    {
      "cell_type": "code",
      "execution_count": null,
      "id": "6455db2a",
      "metadata": {
        "id": "6455db2a"
      },
      "outputs": [],
      "source": [
        "# Sampling the minus kernel\n",
        "shots = 123\n",
        "results = cudaq.sample(minus_kernel, shots_count=shots)\n",
        "print(\"Results from sampling {} times: {}\".format(shots, results))\n",
        "\n",
        "# Often it will be useful to identify the most probable outcome\n",
        "# and the probability of this outcome\n",
        "most_probable_result = results.most_probable()\n",
        "probability = results.probability(most_probable_result)\n",
        "print(\"Most probable result: \" + most_probable_result)\n",
        "print(\"Measured with probability \" + str(probability), end='\\n\\n')"
      ]
    },
    {
      "cell_type": "markdown",
      "id": "fd5eaaeb",
      "metadata": {
        "id": "fd5eaaeb"
      },
      "source": [
        "Notice how these results differ from what we saw in the Bit Flip program.  We'll investigate what is going on in this example in more detail in the following section."
      ]
    },
    {
      "cell_type": "markdown",
      "id": "dcb9a707",
      "metadata": {
        "id": "dcb9a707"
      },
      "source": [
        "## 1.4 Interpret the results of a quantum program"
      ]
    },
    {
      "cell_type": "markdown",
      "id": "6cab4300",
      "metadata": {
        "id": "6cab4300"
      },
      "source": [
        "### 1.4.1 Born's Rule\n",
        "\n",
        "Let's further explore the `minus_kernel` example from the previous section to better understand the `sample` command.  We've copied the codeblock from the previous section here, but we've edited the `shots` variable to equal $1$. Execute the cell block below a couple of times and see if you notice anything.\n"
      ]
    },
    {
      "cell_type": "code",
      "execution_count": null,
      "id": "ef6aabbc",
      "metadata": {
        "id": "ef6aabbc"
      },
      "outputs": [],
      "source": [
        "# Sampling the minus kernel\n",
        "shots = 1\n",
        "results = cudaq.sample(minus_kernel, shots_count=shots)\n",
        "print(\"Results from sampling {} time: {}\".format(shots, results))\n"
      ]
    },
    {
      "cell_type": "markdown",
      "id": "b53c37df",
      "metadata": {
        "id": "b53c37df"
      },
      "source": [
        "\n",
        " What do you notice when you run this code block a couple of times?  The result varies.  This is because quantum systems are inherently probabilistic in nature.  You might see that roughly half of the time the outcome will be $0$ and the remaining times, the outcome will be a $1$.  This non-deterministic behavior can be explained by *Born's Rule*.    \n",
        "\n",
        " **Born's Rule** roughly states that if a qubit is in the quantum state $\\ket{\\psi}=\\alpha\\ket{0}+\\beta\\ket{1}$ with $\\alpha$ and $\\beta$ complex values satisfying $|\\alpha|^2+|\\beta|^2 = 1$, then when measured, the outcome will be $0$ with probability $|\\alpha|^2$ and $1$ with probability $|\\beta|^2$. Furthermore upon measurement, the state of the qubit collapses; that is, the state of the qubit will change to $\\ket{0}$ if a $0$ is measured and the qubit will change to $\\ket{1}$ if a $1$ is measured.\n",
        "\n",
        " Explore the connection between the Bloch Sphere representation of the state $\\ket{\\psi}$ and the probabilities of measuring a 0 or 1.  What effect does changing the angle $\\phi$ have on the probability amplitudes?"
      ]
    },
    {
      "cell_type": "code",
      "execution_count": null,
      "id": "1172cbb5",
      "metadata": {
        "id": "1172cbb5"
      },
      "outputs": [],
      "source": [
        "# Execute this cell to visualize Born's Rule for the state |ψ⟩ = cos(θ/2)|0⟩ + sin(θ/2)e^{iφ}|1⟩ along with its Bloch sphere representation\n",
        "import sys\n",
        "sys.path.append('interactive_widget')\n",
        "from borns_rule import create_borns_rule_widget\n",
        "\n",
        "# Create and display a new widget\n",
        "widget = create_borns_rule_widget()\n",
        "display(widget)"
      ]
    },
    {
      "cell_type": "markdown",
      "id": "628fd71d",
      "metadata": {
        "id": "628fd71d"
      },
      "source": [
        "**Exercise 3:** Based on Born's rule, what do you expect the probability of measuring the minus state as $0$ to be?  How does this compare to the results of your execution of the `minus_kernel` in the cell block above?  You might notice that the percentage of times you measure a $0$ is close, but not exactly equal to what Born's rule would predict.  Edit the `###FIX_ME###` line in the code block below to achieve sampling results more closely equal Born's rules prediction.\n",
        "\n",
        "*Hint*: Think about the [Central Limit Theorem for Proportions](https://2012books.lardbucket.org/books/beginning-statistics/s10-03-the-sample-proportion.html) from statistics. What do you notice as you increase the number of shots?"
      ]
    },
    {
      "cell_type": "code",
      "execution_count": null,
      "id": "c25da70d",
      "metadata": {
        "id": "c25da70d"
      },
      "outputs": [],
      "source": [
        "# EXERCISE 3\n",
        "# Sampling the minus kernel\n",
        "shots = ###FIX_ME###\n",
        "results = cudaq.sample(minus_kernel, shots_count=shots)\n",
        "print(\"Results from sampling {} times: {}\".format(shots, results))\n",
        "\n",
        "# Often it will be useful to identify the most probable outcome\n",
        "# and the probability of this outcome\n",
        "most_probable_result = results.most_probable()\n",
        "probability = results.probability(most_probable_result)\n",
        "print(\"Most probable result: \" + most_probable_result)\n",
        "print(\"Measured with probability \" + str(probability), end='\\n\\n')"
      ]
    },
    {
      "cell_type": "markdown",
      "id": "80ff7e02",
      "metadata": {
        "id": "80ff7e02"
      },
      "source": [
        "### 1.4.2 Superposition\n",
        "\n",
        "The concept that distinguishes the Bit Flip program from the Hello World program is superposition.  \n",
        "\n",
        "**Superposition** is one of the fundamental concepts in quantum mechanics that differentiates quantum computation from classical computation.  A state $\\ket{\\psi}=\\alpha\\ket{0}+\\beta\\ket{1}$ is in superposition, if both $\\alpha$ and $\\beta$ are non-zero.  In other words, $\\ket{\\psi}$ has a non-zero probability of being measured as a $0$, but also a non-zero probability of being measured as a $1$.  It's important to note that if qubit is in a state of superposition, when it is measured, it will collapse to either $\\ket{0}$ or $\\ket{1}$ and will no longer be in superposition.\n",
        "\n",
        "The $\\ket{-}$ state that we examined in the previous section is a state in superposition with the likelihood of measuring a $0$ to be $50\\%$ and the likelihood of measuring a $1$ to be $50\\%$.  There are other states that are distinct from $\\ket{-}$ that are also in a state of equal superposition.  Let's take a look at one of those, the plus state (i.e., $\\ket{+}$). In addition to creating and sampling a kernel for the plus state in the code block below, we've used this example to illustrate two other CUDA-Q programming tips:"
      ]
    },
    {
      "cell_type": "markdown",
      "id": "aa233909",
      "metadata": {
        "id": "aa233909"
      },
      "source": [
        ">**CUDA-Q Quick Tip:** When allocating just one qubit, you can use `qubit()` in place of `qvector(1)`.\n",
        "\n",
        ">**CUDA-Q Quick Tip:** By default, when not specified, qubit measurements are conducted on the standard computational basis, which is along the $z$-axis.  In the cell block below, we have added the measurement explicitly with the `mz` command. There are other measurement options `mx` and `my` built into CUDA-Q that we'll experiment with in the next section."
      ]
    },
    {
      "cell_type": "code",
      "execution_count": null,
      "id": "fac8fd81",
      "metadata": {
        "id": "fac8fd81"
      },
      "outputs": [],
      "source": [
        "\n",
        "# Kernel for the plus state\n",
        "@cudaq.kernel\n",
        "def plus_kernel():\n",
        "\n",
        "    # Allocate a qubit\n",
        "    # Initialize the state |0>\n",
        "    one_qubit = cudaq.qubit()\n",
        "    # Apply the Hadamard gate\n",
        "    h(one_qubit)\n",
        "\n",
        "    # Specify the measurement\n",
        "    mz(one_qubit)\n",
        "\n",
        "\n",
        "# Draw the circuit to check our work\n",
        "print(cudaq.draw(plus_kernel))\n",
        "\n",
        "# Sampling the minus kernel\n",
        "shots = 1000\n",
        "results = cudaq.sample(plus_kernel, shots_count=shots)\n",
        "print(results)\n",
        "\n",
        "# Often it will be useful to identify the most probable outcome\n",
        "# and the probability of this outcome\n",
        "most_probable_result = results.most_probable()\n",
        "probability = results.probability(most_probable_result)\n",
        "print(\"Most probable result: \" + most_probable_result)\n",
        "print(\"Measured with probability \" + str(probability), end='\\n\\n')\n"
      ]
    },
    {
      "cell_type": "markdown",
      "id": "bd12b584",
      "metadata": {
        "id": "bd12b584"
      },
      "source": [
        "### 1.5 More about Measurement (optional)"
      ]
    },
    {
      "cell_type": "markdown",
      "id": "aa95599a",
      "metadata": {
        "id": "aa95599a"
      },
      "source": [
        "How do the results of sampling the `plus_kernel` compare to those obtained for the `minus_kernel` in the previous section?  What does this seem to apply concerning our ability to distinguish $\\ket{+}$ from $\\ket{-}$?  \n",
        "\n",
        "If qubits store information, we would like to be able distinguish two qubits that might be storing different information. For example we might want to distinguish the one-qubit state $\\ket{+}$ from the state $\\ket{-}$. We'll resolve this issue in the next example by changing the way we measure the two qubits."
      ]
    },
    {
      "cell_type": "markdown",
      "id": "27f24170",
      "metadata": {
        "id": "27f24170"
      },
      "source": [
        "**Exercise 4:** Create two quantum kernels to sample.  The first will prepare the $\\ket{+}$ state and then measure with `mx`.  The second kernel will prepare the $\\ket{-}$ state and then measure with `mx`.  "
      ]
    },
    {
      "cell_type": "code",
      "execution_count": null,
      "id": "a9659851",
      "metadata": {
        "id": "a9659851"
      },
      "outputs": [],
      "source": [
        "# EXERCISE 4\n",
        "\n",
        "shots = 1000\n",
        "\n",
        "@cudaq.kernel\n",
        "def plus_measure_x():\n",
        "    ## EDIT CODE BELOW THIS LINE\n",
        "\n",
        "\n",
        "\n",
        "    ## EDIT CODE ABOVE THIS LINE\n",
        "\n",
        "@cudaq.kernel\n",
        "def minus_measure_x():\n",
        "    ## EDIT CODE BELOW THIS LINE\n",
        "\n",
        "\n",
        "    ## EDIT CODE ABOVE THIS LINE\n",
        "\n",
        "results_plus_measure_x = cudaq.sample(plus_measure_x, shots_count=shots)\n",
        "print(\"Results from sampling the plus_hadamard kernel {} times: {}\".format(shots, results_plus_measure_x))\n",
        "\n",
        "results_minus_measure_x = cudaq.sample(minus_measure_x, shots_count=shots)\n",
        "print(\"Results from sampling the minus_hadamard kernel {} times: {}\".format(shots, results_minus_measure_x))"
      ]
    },
    {
      "cell_type": "markdown",
      "id": "eae0ba49",
      "metadata": {
        "id": "eae0ba49"
      },
      "source": [
        "Notice that the results dictionaries from sampling the $\\ket{+}$ and $\\ket{-}$, respectively differ from one another.  And thus, by switching to measurement with the `mx` command we are able to distinguish these two states. However, there is a drawback &#8212; measuring with `mx` doesn't allow us to distinguish $\\ket{0}$ from $\\ket{1}$, because of the Uncertainty Principle in quantum mechanics. Test this claim out for yourself by creating and sampling kernels for the $\\ket{0}$ and $\\ket{1}$ states using the `mx` measurements.\n",
        "\n",
        "What is happening when we take a measurement?  What distinguishes the `mz` command from the `mx` command?  Abstractly when we are measuring a state $\\ket{\\psi}=\\alpha\\ket{0}+\\beta\\ket{1}$ with `mz`, we are applying Born's rule to the state $\\ket{\\psi}$. This act of measurement will collapse the state to $\\ket{0}$, with a probability $|\\alpha|^2$  and will collapse the state of the qubit to  $\\ket{1}$ with probability $|\\beta|^2$. You can graphically visualize this collapse under a `mz` measurement on the Bloch sphere as projecting the state $\\ket{\\psi}$ onto the $z$ axis.  \n",
        "\n",
        "Analogously, when measuring with `mx` we will be collapsing our state $\\ket{\\psi}$ to either $\\ket{+}$ or $\\ket{-}$ along the $x$-axis of the Bloch sphere.  We can use Born's Rule for this measurement, too.  The only difference is now instead of writing $\\ket{\\psi}$ in terms of computational basis states $\\ket{0}$ and $\\ket{1}$, we'll find coefficients $\\gamma$ and $\\delta$ so that $\\ket{\\psi}=\\gamma\\ket{+}+\\delta\\ket{-}$. With the `mx`measurement, the probabilities of measuring a $0$ and $1$ are determined by $|\\gamma|^2$ and $|\\delta|^2$, respectively.\n",
        "So for the case of $\\ket{+}$, the probability of measuring $0$ with `mx` is $100\\%$, and for $\\ket{-}$ the probability of measuring a $1$ with `mx` is $100\\%$. Therefore, `mx` gives us a way to distinguish $\\ket{+}$ and $\\ket{-}$ with only one shot, assuming there is no noise.\n",
        "\n",
        "For the remainder of this series of labs, we'll only be measuring with `mz`. To learn more about measurement, check out [chapter 4 of Introduction to Quantum Information Science](https://qubit.guide/4.1-hilbert-spaces-briefly) or [section 2.2.3 of Introduction to Classical and Quantum Computing](https://www.thomaswong.net/introduction-to-classical-and-quantum-computing-1e4p.pdf)."
      ]
    },
    {
      "cell_type": "markdown",
      "id": "1bef4cf6",
      "metadata": {
        "id": "1bef4cf6"
      },
      "source": [
        "## Next\n",
        "\n",
        "There's not a whole lot we can do with just one qubit.  In fact, one of the fundamental quantum properites (entanglement) requires more than one qubit.  Let's move to Lab 2, where we start programming with more than one qubit and learn about entanglement."
      ]
    }
  ],
  "metadata": {
    "kernelspec": {
      "display_name": "Python 3",
      "language": "python",
      "name": "python3"
    },
    "language_info": {
      "codemirror_mode": {
        "name": "ipython",
        "version": 3
      },
      "file_extension": ".py",
      "mimetype": "text/x-python",
      "name": "python",
      "nbconvert_exporter": "python",
      "pygments_lexer": "ipython3",
      "version": "3.10.12"
    },
    "colab": {
      "provenance": []
    },
    "widgets": {
      "application/vnd.jupyter.widget-state+json": {
        "343787371b57472c9119dd9f7ddb38f2": {
          "model_module": "@jupyter-widgets/controls",
          "model_name": "VBoxModel",
          "model_module_version": "1.5.0",
          "state": {
            "_dom_classes": [],
            "_model_module": "@jupyter-widgets/controls",
            "_model_module_version": "1.5.0",
            "_model_name": "VBoxModel",
            "_view_count": null,
            "_view_module": "@jupyter-widgets/controls",
            "_view_module_version": "1.5.0",
            "_view_name": "VBoxView",
            "box_style": "",
            "children": [
              "IPY_MODEL_01ea72c1f83d44e38687d1fb02187802",
              "IPY_MODEL_3b210e115afe4d4c92c1458ddfd8f10e",
              "IPY_MODEL_7dc488ace0144d9b9f1fd6edcbe23370"
            ],
            "layout": "IPY_MODEL_279cef111f1d48d189f44c0b1eacaebc"
          }
        },
        "01ea72c1f83d44e38687d1fb02187802": {
          "model_module": "@jupyter-widgets/controls",
          "model_name": "HTMLModel",
          "model_module_version": "1.5.0",
          "state": {
            "_dom_classes": [],
            "_model_module": "@jupyter-widgets/controls",
            "_model_module_version": "1.5.0",
            "_model_name": "HTMLModel",
            "_view_count": null,
            "_view_module": "@jupyter-widgets/controls",
            "_view_module_version": "1.5.0",
            "_view_name": "HTMLView",
            "description": "",
            "description_tooltip": null,
            "layout": "IPY_MODEL_02fae3b4c858415588a98485e3c44e4a",
            "placeholder": "​",
            "style": "IPY_MODEL_8ab1b1ac11414ee7aa9f14354c4d036d",
            "value": "<h3>Visualize the Final Qubit State on the Bloch Sphere after Rotating about the X, Y and Z Axis with Varying Angles (θx, θy, θz in radians)</h3>"
          }
        },
        "3b210e115afe4d4c92c1458ddfd8f10e": {
          "model_module": "@jupyter-widgets/controls",
          "model_name": "HBoxModel",
          "model_module_version": "1.5.0",
          "state": {
            "_dom_classes": [],
            "_model_module": "@jupyter-widgets/controls",
            "_model_module_version": "1.5.0",
            "_model_name": "HBoxModel",
            "_view_count": null,
            "_view_module": "@jupyter-widgets/controls",
            "_view_module_version": "1.5.0",
            "_view_name": "HBoxView",
            "box_style": "",
            "children": [
              "IPY_MODEL_f50228f05d8043ca949762ca3c657e0d",
              "IPY_MODEL_5c6d8bb6c749498792979aa812072338",
              "IPY_MODEL_a664cf9a8bf84eec8ed1f2ea12a370f5"
            ],
            "layout": "IPY_MODEL_703c6719a347411caf7278beef396ce2"
          }
        },
        "7dc488ace0144d9b9f1fd6edcbe23370": {
          "model_module": "@jupyter-widgets/controls",
          "model_name": "HBoxModel",
          "model_module_version": "1.5.0",
          "state": {
            "_dom_classes": [],
            "_model_module": "@jupyter-widgets/controls",
            "_model_module_version": "1.5.0",
            "_model_name": "HBoxModel",
            "_view_count": null,
            "_view_module": "@jupyter-widgets/controls",
            "_view_module_version": "1.5.0",
            "_view_name": "HBoxView",
            "box_style": "",
            "children": [
              "IPY_MODEL_7c210e65e01343b79f5b5a5a63f3097a",
              "IPY_MODEL_bc151f103fa34efb8038ee74080808e7"
            ],
            "layout": "IPY_MODEL_00dc3aaeaea94a36aa4e7294c9249d19"
          }
        },
        "279cef111f1d48d189f44c0b1eacaebc": {
          "model_module": "@jupyter-widgets/base",
          "model_name": "LayoutModel",
          "model_module_version": "1.2.0",
          "state": {
            "_model_module": "@jupyter-widgets/base",
            "_model_module_version": "1.2.0",
            "_model_name": "LayoutModel",
            "_view_count": null,
            "_view_module": "@jupyter-widgets/base",
            "_view_module_version": "1.2.0",
            "_view_name": "LayoutView",
            "align_content": null,
            "align_items": null,
            "align_self": null,
            "border": null,
            "bottom": null,
            "display": null,
            "flex": null,
            "flex_flow": null,
            "grid_area": null,
            "grid_auto_columns": null,
            "grid_auto_flow": null,
            "grid_auto_rows": null,
            "grid_column": null,
            "grid_gap": null,
            "grid_row": null,
            "grid_template_areas": null,
            "grid_template_columns": null,
            "grid_template_rows": null,
            "height": null,
            "justify_content": null,
            "justify_items": null,
            "left": null,
            "margin": null,
            "max_height": null,
            "max_width": null,
            "min_height": null,
            "min_width": null,
            "object_fit": null,
            "object_position": null,
            "order": null,
            "overflow": null,
            "overflow_x": null,
            "overflow_y": null,
            "padding": null,
            "right": null,
            "top": null,
            "visibility": null,
            "width": null
          }
        },
        "02fae3b4c858415588a98485e3c44e4a": {
          "model_module": "@jupyter-widgets/base",
          "model_name": "LayoutModel",
          "model_module_version": "1.2.0",
          "state": {
            "_model_module": "@jupyter-widgets/base",
            "_model_module_version": "1.2.0",
            "_model_name": "LayoutModel",
            "_view_count": null,
            "_view_module": "@jupyter-widgets/base",
            "_view_module_version": "1.2.0",
            "_view_name": "LayoutView",
            "align_content": null,
            "align_items": null,
            "align_self": null,
            "border": null,
            "bottom": null,
            "display": null,
            "flex": null,
            "flex_flow": null,
            "grid_area": null,
            "grid_auto_columns": null,
            "grid_auto_flow": null,
            "grid_auto_rows": null,
            "grid_column": null,
            "grid_gap": null,
            "grid_row": null,
            "grid_template_areas": null,
            "grid_template_columns": null,
            "grid_template_rows": null,
            "height": null,
            "justify_content": null,
            "justify_items": null,
            "left": null,
            "margin": null,
            "max_height": null,
            "max_width": null,
            "min_height": null,
            "min_width": null,
            "object_fit": null,
            "object_position": null,
            "order": null,
            "overflow": null,
            "overflow_x": null,
            "overflow_y": null,
            "padding": null,
            "right": null,
            "top": null,
            "visibility": null,
            "width": null
          }
        },
        "8ab1b1ac11414ee7aa9f14354c4d036d": {
          "model_module": "@jupyter-widgets/controls",
          "model_name": "DescriptionStyleModel",
          "model_module_version": "1.5.0",
          "state": {
            "_model_module": "@jupyter-widgets/controls",
            "_model_module_version": "1.5.0",
            "_model_name": "DescriptionStyleModel",
            "_view_count": null,
            "_view_module": "@jupyter-widgets/base",
            "_view_module_version": "1.2.0",
            "_view_name": "StyleView",
            "description_width": ""
          }
        },
        "f50228f05d8043ca949762ca3c657e0d": {
          "model_module": "@jupyter-widgets/controls",
          "model_name": "FloatSliderModel",
          "model_module_version": "1.5.0",
          "state": {
            "_dom_classes": [],
            "_model_module": "@jupyter-widgets/controls",
            "_model_module_version": "1.5.0",
            "_model_name": "FloatSliderModel",
            "_view_count": null,
            "_view_module": "@jupyter-widgets/controls",
            "_view_module_version": "1.5.0",
            "_view_name": "FloatSliderView",
            "continuous_update": false,
            "description": "θx:",
            "description_tooltip": null,
            "disabled": false,
            "layout": "IPY_MODEL_6b8c5cc076ac4cada3ab77b47791d737",
            "max": 6.283185307179586,
            "min": 0,
            "orientation": "horizontal",
            "readout": true,
            "readout_format": ".2f",
            "step": 0.01,
            "style": "IPY_MODEL_4ffc399af6564f91891a8aa4eec79940",
            "value": 4.33
          }
        },
        "5c6d8bb6c749498792979aa812072338": {
          "model_module": "@jupyter-widgets/controls",
          "model_name": "FloatSliderModel",
          "model_module_version": "1.5.0",
          "state": {
            "_dom_classes": [],
            "_model_module": "@jupyter-widgets/controls",
            "_model_module_version": "1.5.0",
            "_model_name": "FloatSliderModel",
            "_view_count": null,
            "_view_module": "@jupyter-widgets/controls",
            "_view_module_version": "1.5.0",
            "_view_name": "FloatSliderView",
            "continuous_update": false,
            "description": "θy:",
            "description_tooltip": null,
            "disabled": false,
            "layout": "IPY_MODEL_2db1af614ce148d99898d5ad53b93a1c",
            "max": 6.283185307179586,
            "min": 0,
            "orientation": "horizontal",
            "readout": true,
            "readout_format": ".2f",
            "step": 0.01,
            "style": "IPY_MODEL_8b335317e7434786966a28fe32edd95a",
            "value": 4.12
          }
        },
        "a664cf9a8bf84eec8ed1f2ea12a370f5": {
          "model_module": "@jupyter-widgets/controls",
          "model_name": "FloatSliderModel",
          "model_module_version": "1.5.0",
          "state": {
            "_dom_classes": [],
            "_model_module": "@jupyter-widgets/controls",
            "_model_module_version": "1.5.0",
            "_model_name": "FloatSliderModel",
            "_view_count": null,
            "_view_module": "@jupyter-widgets/controls",
            "_view_module_version": "1.5.0",
            "_view_name": "FloatSliderView",
            "continuous_update": false,
            "description": "θz:",
            "description_tooltip": null,
            "disabled": false,
            "layout": "IPY_MODEL_d6e7c916bf3644df9b6fd078e8bc14c0",
            "max": 6.283185307179586,
            "min": 0,
            "orientation": "horizontal",
            "readout": true,
            "readout_format": ".2f",
            "step": 0.01,
            "style": "IPY_MODEL_9b2aad6332a84bbda79475536186e3a2",
            "value": 0.93
          }
        },
        "703c6719a347411caf7278beef396ce2": {
          "model_module": "@jupyter-widgets/base",
          "model_name": "LayoutModel",
          "model_module_version": "1.2.0",
          "state": {
            "_model_module": "@jupyter-widgets/base",
            "_model_module_version": "1.2.0",
            "_model_name": "LayoutModel",
            "_view_count": null,
            "_view_module": "@jupyter-widgets/base",
            "_view_module_version": "1.2.0",
            "_view_name": "LayoutView",
            "align_content": null,
            "align_items": null,
            "align_self": null,
            "border": null,
            "bottom": null,
            "display": null,
            "flex": null,
            "flex_flow": null,
            "grid_area": null,
            "grid_auto_columns": null,
            "grid_auto_flow": null,
            "grid_auto_rows": null,
            "grid_column": null,
            "grid_gap": null,
            "grid_row": null,
            "grid_template_areas": null,
            "grid_template_columns": null,
            "grid_template_rows": null,
            "height": null,
            "justify_content": null,
            "justify_items": null,
            "left": null,
            "margin": null,
            "max_height": null,
            "max_width": null,
            "min_height": null,
            "min_width": null,
            "object_fit": null,
            "object_position": null,
            "order": null,
            "overflow": null,
            "overflow_x": null,
            "overflow_y": null,
            "padding": null,
            "right": null,
            "top": null,
            "visibility": null,
            "width": null
          }
        },
        "7c210e65e01343b79f5b5a5a63f3097a": {
          "model_module": "@jupyter-widgets/output",
          "model_name": "OutputModel",
          "model_module_version": "1.0.0",
          "state": {
            "_dom_classes": [],
            "_model_module": "@jupyter-widgets/output",
            "_model_module_version": "1.0.0",
            "_model_name": "OutputModel",
            "_view_count": null,
            "_view_module": "@jupyter-widgets/output",
            "_view_module_version": "1.0.0",
            "_view_name": "OutputView",
            "layout": "IPY_MODEL_c55ef43ef5d447aa82d9cce9c6fef958",
            "msg_id": "",
            "outputs": [
              {
                "output_type": "display_data",
                "data": {
                  "text/plain": "<Figure size 500x500 with 1 Axes>",
                  "image/png": "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\n"
                },
                "metadata": {}
              }
            ]
          }
        },
        "bc151f103fa34efb8038ee74080808e7": {
          "model_module": "@jupyter-widgets/output",
          "model_name": "OutputModel",
          "model_module_version": "1.0.0",
          "state": {
            "_dom_classes": [],
            "_model_module": "@jupyter-widgets/output",
            "_model_module_version": "1.0.0",
            "_model_name": "OutputModel",
            "_view_count": null,
            "_view_module": "@jupyter-widgets/output",
            "_view_module_version": "1.0.0",
            "_view_name": "OutputView",
            "layout": "IPY_MODEL_395be2efcbc94a71ae2926d1b3c33963",
            "msg_id": "",
            "outputs": [
              {
                "output_type": "stream",
                "name": "stdout",
                "text": [
                  "     ╭──────────╮╭──────────╮╭──────────╮\n",
                  "q0 : ┤ rx(4.33) ├┤ ry(4.12) ├┤ rz(0.93) ├\n",
                  "     ╰──────────╯╰──────────╯╰──────────╯\n",
                  "\n"
                ]
              }
            ]
          }
        },
        "00dc3aaeaea94a36aa4e7294c9249d19": {
          "model_module": "@jupyter-widgets/base",
          "model_name": "LayoutModel",
          "model_module_version": "1.2.0",
          "state": {
            "_model_module": "@jupyter-widgets/base",
            "_model_module_version": "1.2.0",
            "_model_name": "LayoutModel",
            "_view_count": null,
            "_view_module": "@jupyter-widgets/base",
            "_view_module_version": "1.2.0",
            "_view_name": "LayoutView",
            "align_content": null,
            "align_items": null,
            "align_self": null,
            "border": null,
            "bottom": null,
            "display": null,
            "flex": null,
            "flex_flow": null,
            "grid_area": null,
            "grid_auto_columns": null,
            "grid_auto_flow": null,
            "grid_auto_rows": null,
            "grid_column": null,
            "grid_gap": null,
            "grid_row": null,
            "grid_template_areas": null,
            "grid_template_columns": null,
            "grid_template_rows": null,
            "height": null,
            "justify_content": null,
            "justify_items": null,
            "left": null,
            "margin": null,
            "max_height": null,
            "max_width": null,
            "min_height": null,
            "min_width": null,
            "object_fit": null,
            "object_position": null,
            "order": null,
            "overflow": null,
            "overflow_x": null,
            "overflow_y": null,
            "padding": null,
            "right": null,
            "top": null,
            "visibility": null,
            "width": null
          }
        },
        "6b8c5cc076ac4cada3ab77b47791d737": {
          "model_module": "@jupyter-widgets/base",
          "model_name": "LayoutModel",
          "model_module_version": "1.2.0",
          "state": {
            "_model_module": "@jupyter-widgets/base",
            "_model_module_version": "1.2.0",
            "_model_name": "LayoutModel",
            "_view_count": null,
            "_view_module": "@jupyter-widgets/base",
            "_view_module_version": "1.2.0",
            "_view_name": "LayoutView",
            "align_content": null,
            "align_items": null,
            "align_self": null,
            "border": null,
            "bottom": null,
            "display": null,
            "flex": null,
            "flex_flow": null,
            "grid_area": null,
            "grid_auto_columns": null,
            "grid_auto_flow": null,
            "grid_auto_rows": null,
            "grid_column": null,
            "grid_gap": null,
            "grid_row": null,
            "grid_template_areas": null,
            "grid_template_columns": null,
            "grid_template_rows": null,
            "height": null,
            "justify_content": null,
            "justify_items": null,
            "left": null,
            "margin": null,
            "max_height": null,
            "max_width": null,
            "min_height": null,
            "min_width": null,
            "object_fit": null,
            "object_position": null,
            "order": null,
            "overflow": null,
            "overflow_x": null,
            "overflow_y": null,
            "padding": null,
            "right": null,
            "top": null,
            "visibility": null,
            "width": null
          }
        },
        "4ffc399af6564f91891a8aa4eec79940": {
          "model_module": "@jupyter-widgets/controls",
          "model_name": "SliderStyleModel",
          "model_module_version": "1.5.0",
          "state": {
            "_model_module": "@jupyter-widgets/controls",
            "_model_module_version": "1.5.0",
            "_model_name": "SliderStyleModel",
            "_view_count": null,
            "_view_module": "@jupyter-widgets/base",
            "_view_module_version": "1.2.0",
            "_view_name": "StyleView",
            "description_width": "",
            "handle_color": null
          }
        },
        "2db1af614ce148d99898d5ad53b93a1c": {
          "model_module": "@jupyter-widgets/base",
          "model_name": "LayoutModel",
          "model_module_version": "1.2.0",
          "state": {
            "_model_module": "@jupyter-widgets/base",
            "_model_module_version": "1.2.0",
            "_model_name": "LayoutModel",
            "_view_count": null,
            "_view_module": "@jupyter-widgets/base",
            "_view_module_version": "1.2.0",
            "_view_name": "LayoutView",
            "align_content": null,
            "align_items": null,
            "align_self": null,
            "border": null,
            "bottom": null,
            "display": null,
            "flex": null,
            "flex_flow": null,
            "grid_area": null,
            "grid_auto_columns": null,
            "grid_auto_flow": null,
            "grid_auto_rows": null,
            "grid_column": null,
            "grid_gap": null,
            "grid_row": null,
            "grid_template_areas": null,
            "grid_template_columns": null,
            "grid_template_rows": null,
            "height": null,
            "justify_content": null,
            "justify_items": null,
            "left": null,
            "margin": null,
            "max_height": null,
            "max_width": null,
            "min_height": null,
            "min_width": null,
            "object_fit": null,
            "object_position": null,
            "order": null,
            "overflow": null,
            "overflow_x": null,
            "overflow_y": null,
            "padding": null,
            "right": null,
            "top": null,
            "visibility": null,
            "width": null
          }
        },
        "8b335317e7434786966a28fe32edd95a": {
          "model_module": "@jupyter-widgets/controls",
          "model_name": "SliderStyleModel",
          "model_module_version": "1.5.0",
          "state": {
            "_model_module": "@jupyter-widgets/controls",
            "_model_module_version": "1.5.0",
            "_model_name": "SliderStyleModel",
            "_view_count": null,
            "_view_module": "@jupyter-widgets/base",
            "_view_module_version": "1.2.0",
            "_view_name": "StyleView",
            "description_width": "",
            "handle_color": null
          }
        },
        "d6e7c916bf3644df9b6fd078e8bc14c0": {
          "model_module": "@jupyter-widgets/base",
          "model_name": "LayoutModel",
          "model_module_version": "1.2.0",
          "state": {
            "_model_module": "@jupyter-widgets/base",
            "_model_module_version": "1.2.0",
            "_model_name": "LayoutModel",
            "_view_count": null,
            "_view_module": "@jupyter-widgets/base",
            "_view_module_version": "1.2.0",
            "_view_name": "LayoutView",
            "align_content": null,
            "align_items": null,
            "align_self": null,
            "border": null,
            "bottom": null,
            "display": null,
            "flex": null,
            "flex_flow": null,
            "grid_area": null,
            "grid_auto_columns": null,
            "grid_auto_flow": null,
            "grid_auto_rows": null,
            "grid_column": null,
            "grid_gap": null,
            "grid_row": null,
            "grid_template_areas": null,
            "grid_template_columns": null,
            "grid_template_rows": null,
            "height": null,
            "justify_content": null,
            "justify_items": null,
            "left": null,
            "margin": null,
            "max_height": null,
            "max_width": null,
            "min_height": null,
            "min_width": null,
            "object_fit": null,
            "object_position": null,
            "order": null,
            "overflow": null,
            "overflow_x": null,
            "overflow_y": null,
            "padding": null,
            "right": null,
            "top": null,
            "visibility": null,
            "width": null
          }
        },
        "9b2aad6332a84bbda79475536186e3a2": {
          "model_module": "@jupyter-widgets/controls",
          "model_name": "SliderStyleModel",
          "model_module_version": "1.5.0",
          "state": {
            "_model_module": "@jupyter-widgets/controls",
            "_model_module_version": "1.5.0",
            "_model_name": "SliderStyleModel",
            "_view_count": null,
            "_view_module": "@jupyter-widgets/base",
            "_view_module_version": "1.2.0",
            "_view_name": "StyleView",
            "description_width": "",
            "handle_color": null
          }
        },
        "c55ef43ef5d447aa82d9cce9c6fef958": {
          "model_module": "@jupyter-widgets/base",
          "model_name": "LayoutModel",
          "model_module_version": "1.2.0",
          "state": {
            "_model_module": "@jupyter-widgets/base",
            "_model_module_version": "1.2.0",
            "_model_name": "LayoutModel",
            "_view_count": null,
            "_view_module": "@jupyter-widgets/base",
            "_view_module_version": "1.2.0",
            "_view_name": "LayoutView",
            "align_content": null,
            "align_items": null,
            "align_self": null,
            "border": null,
            "bottom": null,
            "display": null,
            "flex": null,
            "flex_flow": null,
            "grid_area": null,
            "grid_auto_columns": null,
            "grid_auto_flow": null,
            "grid_auto_rows": null,
            "grid_column": null,
            "grid_gap": null,
            "grid_row": null,
            "grid_template_areas": null,
            "grid_template_columns": null,
            "grid_template_rows": null,
            "height": null,
            "justify_content": null,
            "justify_items": null,
            "left": null,
            "margin": null,
            "max_height": null,
            "max_width": null,
            "min_height": null,
            "min_width": null,
            "object_fit": null,
            "object_position": null,
            "order": null,
            "overflow": null,
            "overflow_x": null,
            "overflow_y": null,
            "padding": null,
            "right": null,
            "top": null,
            "visibility": null,
            "width": null
          }
        },
        "395be2efcbc94a71ae2926d1b3c33963": {
          "model_module": "@jupyter-widgets/base",
          "model_name": "LayoutModel",
          "model_module_version": "1.2.0",
          "state": {
            "_model_module": "@jupyter-widgets/base",
            "_model_module_version": "1.2.0",
            "_model_name": "LayoutModel",
            "_view_count": null,
            "_view_module": "@jupyter-widgets/base",
            "_view_module_version": "1.2.0",
            "_view_name": "LayoutView",
            "align_content": null,
            "align_items": null,
            "align_self": null,
            "border": null,
            "bottom": null,
            "display": null,
            "flex": null,
            "flex_flow": null,
            "grid_area": null,
            "grid_auto_columns": null,
            "grid_auto_flow": null,
            "grid_auto_rows": null,
            "grid_column": null,
            "grid_gap": null,
            "grid_row": null,
            "grid_template_areas": null,
            "grid_template_columns": null,
            "grid_template_rows": null,
            "height": null,
            "justify_content": null,
            "justify_items": null,
            "left": null,
            "margin": null,
            "max_height": null,
            "max_width": null,
            "min_height": null,
            "min_width": null,
            "object_fit": null,
            "object_position": null,
            "order": null,
            "overflow": null,
            "overflow_x": null,
            "overflow_y": null,
            "padding": null,
            "right": null,
            "top": null,
            "visibility": null,
            "width": null
          }
        },
        "08d7804be3904fb2aefba19350d220aa": {
          "model_module": "@jupyter-widgets/controls",
          "model_name": "VBoxModel",
          "model_module_version": "1.5.0",
          "state": {
            "_dom_classes": [],
            "_model_module": "@jupyter-widgets/controls",
            "_model_module_version": "1.5.0",
            "_model_name": "VBoxModel",
            "_view_count": null,
            "_view_module": "@jupyter-widgets/controls",
            "_view_module_version": "1.5.0",
            "_view_name": "VBoxView",
            "box_style": "",
            "children": [
              "IPY_MODEL_b1495a3dd30b470e98b24e3d1c7100de",
              "IPY_MODEL_54eb63f6ead144b79e279e6d3f449b82",
              "IPY_MODEL_85a6bc4f8a0f43b8a502fe606eaed47f"
            ],
            "layout": "IPY_MODEL_c131034e92f2494bb96c3a68002e913c"
          }
        },
        "b1495a3dd30b470e98b24e3d1c7100de": {
          "model_module": "@jupyter-widgets/controls",
          "model_name": "HTMLModel",
          "model_module_version": "1.5.0",
          "state": {
            "_dom_classes": [],
            "_model_module": "@jupyter-widgets/controls",
            "_model_module_version": "1.5.0",
            "_model_name": "HTMLModel",
            "_view_count": null,
            "_view_module": "@jupyter-widgets/controls",
            "_view_module_version": "1.5.0",
            "_view_name": "HTMLView",
            "description": "",
            "description_tooltip": null,
            "layout": "IPY_MODEL_8c072b364f5d4af9b9c35fdf58ac1b2f",
            "placeholder": "​",
            "style": "IPY_MODEL_afb23159e8ad499598b3bf50184c1405",
            "value": "<h3>Visualize the Final Qubit State on the Bloch Sphere after Rotating about the X, Y and Z Axis with Varying Angles (θx, θy, θz in radians)</h3>"
          }
        },
        "54eb63f6ead144b79e279e6d3f449b82": {
          "model_module": "@jupyter-widgets/controls",
          "model_name": "HBoxModel",
          "model_module_version": "1.5.0",
          "state": {
            "_dom_classes": [],
            "_model_module": "@jupyter-widgets/controls",
            "_model_module_version": "1.5.0",
            "_model_name": "HBoxModel",
            "_view_count": null,
            "_view_module": "@jupyter-widgets/controls",
            "_view_module_version": "1.5.0",
            "_view_name": "HBoxView",
            "box_style": "",
            "children": [
              "IPY_MODEL_024c0037793941e3b5b21e3f360f95a5",
              "IPY_MODEL_a4a5b7bdd86a468e83432997171aae59",
              "IPY_MODEL_b01bf077537c44e0b26a2c714f557619"
            ],
            "layout": "IPY_MODEL_f517fd3ac26f46cbb73271fc40107bad"
          }
        },
        "85a6bc4f8a0f43b8a502fe606eaed47f": {
          "model_module": "@jupyter-widgets/controls",
          "model_name": "HBoxModel",
          "model_module_version": "1.5.0",
          "state": {
            "_dom_classes": [],
            "_model_module": "@jupyter-widgets/controls",
            "_model_module_version": "1.5.0",
            "_model_name": "HBoxModel",
            "_view_count": null,
            "_view_module": "@jupyter-widgets/controls",
            "_view_module_version": "1.5.0",
            "_view_name": "HBoxView",
            "box_style": "",
            "children": [
              "IPY_MODEL_88e807451ada48d3903ee74b589f2bf5",
              "IPY_MODEL_cc55d43e4892452f855eadf136da586c"
            ],
            "layout": "IPY_MODEL_167f5fd68ba541eeb9184048bb07f8fe"
          }
        },
        "c131034e92f2494bb96c3a68002e913c": {
          "model_module": "@jupyter-widgets/base",
          "model_name": "LayoutModel",
          "model_module_version": "1.2.0",
          "state": {
            "_model_module": "@jupyter-widgets/base",
            "_model_module_version": "1.2.0",
            "_model_name": "LayoutModel",
            "_view_count": null,
            "_view_module": "@jupyter-widgets/base",
            "_view_module_version": "1.2.0",
            "_view_name": "LayoutView",
            "align_content": null,
            "align_items": null,
            "align_self": null,
            "border": null,
            "bottom": null,
            "display": null,
            "flex": null,
            "flex_flow": null,
            "grid_area": null,
            "grid_auto_columns": null,
            "grid_auto_flow": null,
            "grid_auto_rows": null,
            "grid_column": null,
            "grid_gap": null,
            "grid_row": null,
            "grid_template_areas": null,
            "grid_template_columns": null,
            "grid_template_rows": null,
            "height": null,
            "justify_content": null,
            "justify_items": null,
            "left": null,
            "margin": null,
            "max_height": null,
            "max_width": null,
            "min_height": null,
            "min_width": null,
            "object_fit": null,
            "object_position": null,
            "order": null,
            "overflow": null,
            "overflow_x": null,
            "overflow_y": null,
            "padding": null,
            "right": null,
            "top": null,
            "visibility": null,
            "width": null
          }
        },
        "8c072b364f5d4af9b9c35fdf58ac1b2f": {
          "model_module": "@jupyter-widgets/base",
          "model_name": "LayoutModel",
          "model_module_version": "1.2.0",
          "state": {
            "_model_module": "@jupyter-widgets/base",
            "_model_module_version": "1.2.0",
            "_model_name": "LayoutModel",
            "_view_count": null,
            "_view_module": "@jupyter-widgets/base",
            "_view_module_version": "1.2.0",
            "_view_name": "LayoutView",
            "align_content": null,
            "align_items": null,
            "align_self": null,
            "border": null,
            "bottom": null,
            "display": null,
            "flex": null,
            "flex_flow": null,
            "grid_area": null,
            "grid_auto_columns": null,
            "grid_auto_flow": null,
            "grid_auto_rows": null,
            "grid_column": null,
            "grid_gap": null,
            "grid_row": null,
            "grid_template_areas": null,
            "grid_template_columns": null,
            "grid_template_rows": null,
            "height": null,
            "justify_content": null,
            "justify_items": null,
            "left": null,
            "margin": null,
            "max_height": null,
            "max_width": null,
            "min_height": null,
            "min_width": null,
            "object_fit": null,
            "object_position": null,
            "order": null,
            "overflow": null,
            "overflow_x": null,
            "overflow_y": null,
            "padding": null,
            "right": null,
            "top": null,
            "visibility": null,
            "width": null
          }
        },
        "afb23159e8ad499598b3bf50184c1405": {
          "model_module": "@jupyter-widgets/controls",
          "model_name": "DescriptionStyleModel",
          "model_module_version": "1.5.0",
          "state": {
            "_model_module": "@jupyter-widgets/controls",
            "_model_module_version": "1.5.0",
            "_model_name": "DescriptionStyleModel",
            "_view_count": null,
            "_view_module": "@jupyter-widgets/base",
            "_view_module_version": "1.2.0",
            "_view_name": "StyleView",
            "description_width": ""
          }
        },
        "024c0037793941e3b5b21e3f360f95a5": {
          "model_module": "@jupyter-widgets/controls",
          "model_name": "FloatSliderModel",
          "model_module_version": "1.5.0",
          "state": {
            "_dom_classes": [],
            "_model_module": "@jupyter-widgets/controls",
            "_model_module_version": "1.5.0",
            "_model_name": "FloatSliderModel",
            "_view_count": null,
            "_view_module": "@jupyter-widgets/controls",
            "_view_module_version": "1.5.0",
            "_view_name": "FloatSliderView",
            "continuous_update": false,
            "description": "θx:",
            "description_tooltip": null,
            "disabled": false,
            "layout": "IPY_MODEL_142875bf07d547478cd275fcf050b4c3",
            "max": 6.283185307179586,
            "min": 0,
            "orientation": "horizontal",
            "readout": true,
            "readout_format": ".2f",
            "step": 0.01,
            "style": "IPY_MODEL_9db98168afe34268b2ba97d6f5b43258",
            "value": 1.19
          }
        },
        "a4a5b7bdd86a468e83432997171aae59": {
          "model_module": "@jupyter-widgets/controls",
          "model_name": "FloatSliderModel",
          "model_module_version": "1.5.0",
          "state": {
            "_dom_classes": [],
            "_model_module": "@jupyter-widgets/controls",
            "_model_module_version": "1.5.0",
            "_model_name": "FloatSliderModel",
            "_view_count": null,
            "_view_module": "@jupyter-widgets/controls",
            "_view_module_version": "1.5.0",
            "_view_name": "FloatSliderView",
            "continuous_update": false,
            "description": "θy:",
            "description_tooltip": null,
            "disabled": false,
            "layout": "IPY_MODEL_5eef7e90c29d473b874053e50374aa83",
            "max": 6.283185307179586,
            "min": 0,
            "orientation": "horizontal",
            "readout": true,
            "readout_format": ".2f",
            "step": 0.01,
            "style": "IPY_MODEL_9701f7386f844d4fbd4d7219e6658264",
            "value": 1.39
          }
        },
        "b01bf077537c44e0b26a2c714f557619": {
          "model_module": "@jupyter-widgets/controls",
          "model_name": "FloatSliderModel",
          "model_module_version": "1.5.0",
          "state": {
            "_dom_classes": [],
            "_model_module": "@jupyter-widgets/controls",
            "_model_module_version": "1.5.0",
            "_model_name": "FloatSliderModel",
            "_view_count": null,
            "_view_module": "@jupyter-widgets/controls",
            "_view_module_version": "1.5.0",
            "_view_name": "FloatSliderView",
            "continuous_update": false,
            "description": "θz:",
            "description_tooltip": null,
            "disabled": false,
            "layout": "IPY_MODEL_445da1c2fadb457fab702e2b790675a6",
            "max": 6.283185307179586,
            "min": 0,
            "orientation": "horizontal",
            "readout": true,
            "readout_format": ".2f",
            "step": 0.01,
            "style": "IPY_MODEL_a0a8260bc5d2455ab36f6d542da6ce73",
            "value": 1.13
          }
        },
        "f517fd3ac26f46cbb73271fc40107bad": {
          "model_module": "@jupyter-widgets/base",
          "model_name": "LayoutModel",
          "model_module_version": "1.2.0",
          "state": {
            "_model_module": "@jupyter-widgets/base",
            "_model_module_version": "1.2.0",
            "_model_name": "LayoutModel",
            "_view_count": null,
            "_view_module": "@jupyter-widgets/base",
            "_view_module_version": "1.2.0",
            "_view_name": "LayoutView",
            "align_content": null,
            "align_items": null,
            "align_self": null,
            "border": null,
            "bottom": null,
            "display": null,
            "flex": null,
            "flex_flow": null,
            "grid_area": null,
            "grid_auto_columns": null,
            "grid_auto_flow": null,
            "grid_auto_rows": null,
            "grid_column": null,
            "grid_gap": null,
            "grid_row": null,
            "grid_template_areas": null,
            "grid_template_columns": null,
            "grid_template_rows": null,
            "height": null,
            "justify_content": null,
            "justify_items": null,
            "left": null,
            "margin": null,
            "max_height": null,
            "max_width": null,
            "min_height": null,
            "min_width": null,
            "object_fit": null,
            "object_position": null,
            "order": null,
            "overflow": null,
            "overflow_x": null,
            "overflow_y": null,
            "padding": null,
            "right": null,
            "top": null,
            "visibility": null,
            "width": null
          }
        },
        "88e807451ada48d3903ee74b589f2bf5": {
          "model_module": "@jupyter-widgets/output",
          "model_name": "OutputModel",
          "model_module_version": "1.0.0",
          "state": {
            "_dom_classes": [],
            "_model_module": "@jupyter-widgets/output",
            "_model_module_version": "1.0.0",
            "_model_name": "OutputModel",
            "_view_count": null,
            "_view_module": "@jupyter-widgets/output",
            "_view_module_version": "1.0.0",
            "_view_name": "OutputView",
            "layout": "IPY_MODEL_9b2bf163802444fe89c19a8b86a10ac4",
            "msg_id": "",
            "outputs": [
              {
                "output_type": "display_data",
                "data": {
                  "text/plain": "<Figure size 500x500 with 1 Axes>",
                  "image/png": "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\n"
                },
                "metadata": {}
              }
            ]
          }
        },
        "cc55d43e4892452f855eadf136da586c": {
          "model_module": "@jupyter-widgets/output",
          "model_name": "OutputModel",
          "model_module_version": "1.0.0",
          "state": {
            "_dom_classes": [],
            "_model_module": "@jupyter-widgets/output",
            "_model_module_version": "1.0.0",
            "_model_name": "OutputModel",
            "_view_count": null,
            "_view_module": "@jupyter-widgets/output",
            "_view_module_version": "1.0.0",
            "_view_name": "OutputView",
            "layout": "IPY_MODEL_d19dbf253e4b46fa980c6d286ec33fd1",
            "msg_id": "",
            "outputs": [
              {
                "output_type": "stream",
                "name": "stdout",
                "text": [
                  "     ╭──────────╮╭──────────╮╭──────────╮\n",
                  "q0 : ┤ rx(1.19) ├┤ ry(1.39) ├┤ rz(1.13) ├\n",
                  "     ╰──────────╯╰──────────╯╰──────────╯\n",
                  "\n"
                ]
              }
            ]
          }
        },
        "167f5fd68ba541eeb9184048bb07f8fe": {
          "model_module": "@jupyter-widgets/base",
          "model_name": "LayoutModel",
          "model_module_version": "1.2.0",
          "state": {
            "_model_module": "@jupyter-widgets/base",
            "_model_module_version": "1.2.0",
            "_model_name": "LayoutModel",
            "_view_count": null,
            "_view_module": "@jupyter-widgets/base",
            "_view_module_version": "1.2.0",
            "_view_name": "LayoutView",
            "align_content": null,
            "align_items": null,
            "align_self": null,
            "border": null,
            "bottom": null,
            "display": null,
            "flex": null,
            "flex_flow": null,
            "grid_area": null,
            "grid_auto_columns": null,
            "grid_auto_flow": null,
            "grid_auto_rows": null,
            "grid_column": null,
            "grid_gap": null,
            "grid_row": null,
            "grid_template_areas": null,
            "grid_template_columns": null,
            "grid_template_rows": null,
            "height": null,
            "justify_content": null,
            "justify_items": null,
            "left": null,
            "margin": null,
            "max_height": null,
            "max_width": null,
            "min_height": null,
            "min_width": null,
            "object_fit": null,
            "object_position": null,
            "order": null,
            "overflow": null,
            "overflow_x": null,
            "overflow_y": null,
            "padding": null,
            "right": null,
            "top": null,
            "visibility": null,
            "width": null
          }
        },
        "142875bf07d547478cd275fcf050b4c3": {
          "model_module": "@jupyter-widgets/base",
          "model_name": "LayoutModel",
          "model_module_version": "1.2.0",
          "state": {
            "_model_module": "@jupyter-widgets/base",
            "_model_module_version": "1.2.0",
            "_model_name": "LayoutModel",
            "_view_count": null,
            "_view_module": "@jupyter-widgets/base",
            "_view_module_version": "1.2.0",
            "_view_name": "LayoutView",
            "align_content": null,
            "align_items": null,
            "align_self": null,
            "border": null,
            "bottom": null,
            "display": null,
            "flex": null,
            "flex_flow": null,
            "grid_area": null,
            "grid_auto_columns": null,
            "grid_auto_flow": null,
            "grid_auto_rows": null,
            "grid_column": null,
            "grid_gap": null,
            "grid_row": null,
            "grid_template_areas": null,
            "grid_template_columns": null,
            "grid_template_rows": null,
            "height": null,
            "justify_content": null,
            "justify_items": null,
            "left": null,
            "margin": null,
            "max_height": null,
            "max_width": null,
            "min_height": null,
            "min_width": null,
            "object_fit": null,
            "object_position": null,
            "order": null,
            "overflow": null,
            "overflow_x": null,
            "overflow_y": null,
            "padding": null,
            "right": null,
            "top": null,
            "visibility": null,
            "width": null
          }
        },
        "9db98168afe34268b2ba97d6f5b43258": {
          "model_module": "@jupyter-widgets/controls",
          "model_name": "SliderStyleModel",
          "model_module_version": "1.5.0",
          "state": {
            "_model_module": "@jupyter-widgets/controls",
            "_model_module_version": "1.5.0",
            "_model_name": "SliderStyleModel",
            "_view_count": null,
            "_view_module": "@jupyter-widgets/base",
            "_view_module_version": "1.2.0",
            "_view_name": "StyleView",
            "description_width": "",
            "handle_color": null
          }
        },
        "5eef7e90c29d473b874053e50374aa83": {
          "model_module": "@jupyter-widgets/base",
          "model_name": "LayoutModel",
          "model_module_version": "1.2.0",
          "state": {
            "_model_module": "@jupyter-widgets/base",
            "_model_module_version": "1.2.0",
            "_model_name": "LayoutModel",
            "_view_count": null,
            "_view_module": "@jupyter-widgets/base",
            "_view_module_version": "1.2.0",
            "_view_name": "LayoutView",
            "align_content": null,
            "align_items": null,
            "align_self": null,
            "border": null,
            "bottom": null,
            "display": null,
            "flex": null,
            "flex_flow": null,
            "grid_area": null,
            "grid_auto_columns": null,
            "grid_auto_flow": null,
            "grid_auto_rows": null,
            "grid_column": null,
            "grid_gap": null,
            "grid_row": null,
            "grid_template_areas": null,
            "grid_template_columns": null,
            "grid_template_rows": null,
            "height": null,
            "justify_content": null,
            "justify_items": null,
            "left": null,
            "margin": null,
            "max_height": null,
            "max_width": null,
            "min_height": null,
            "min_width": null,
            "object_fit": null,
            "object_position": null,
            "order": null,
            "overflow": null,
            "overflow_x": null,
            "overflow_y": null,
            "padding": null,
            "right": null,
            "top": null,
            "visibility": null,
            "width": null
          }
        },
        "9701f7386f844d4fbd4d7219e6658264": {
          "model_module": "@jupyter-widgets/controls",
          "model_name": "SliderStyleModel",
          "model_module_version": "1.5.0",
          "state": {
            "_model_module": "@jupyter-widgets/controls",
            "_model_module_version": "1.5.0",
            "_model_name": "SliderStyleModel",
            "_view_count": null,
            "_view_module": "@jupyter-widgets/base",
            "_view_module_version": "1.2.0",
            "_view_name": "StyleView",
            "description_width": "",
            "handle_color": null
          }
        },
        "445da1c2fadb457fab702e2b790675a6": {
          "model_module": "@jupyter-widgets/base",
          "model_name": "LayoutModel",
          "model_module_version": "1.2.0",
          "state": {
            "_model_module": "@jupyter-widgets/base",
            "_model_module_version": "1.2.0",
            "_model_name": "LayoutModel",
            "_view_count": null,
            "_view_module": "@jupyter-widgets/base",
            "_view_module_version": "1.2.0",
            "_view_name": "LayoutView",
            "align_content": null,
            "align_items": null,
            "align_self": null,
            "border": null,
            "bottom": null,
            "display": null,
            "flex": null,
            "flex_flow": null,
            "grid_area": null,
            "grid_auto_columns": null,
            "grid_auto_flow": null,
            "grid_auto_rows": null,
            "grid_column": null,
            "grid_gap": null,
            "grid_row": null,
            "grid_template_areas": null,
            "grid_template_columns": null,
            "grid_template_rows": null,
            "height": null,
            "justify_content": null,
            "justify_items": null,
            "left": null,
            "margin": null,
            "max_height": null,
            "max_width": null,
            "min_height": null,
            "min_width": null,
            "object_fit": null,
            "object_position": null,
            "order": null,
            "overflow": null,
            "overflow_x": null,
            "overflow_y": null,
            "padding": null,
            "right": null,
            "top": null,
            "visibility": null,
            "width": null
          }
        },
        "a0a8260bc5d2455ab36f6d542da6ce73": {
          "model_module": "@jupyter-widgets/controls",
          "model_name": "SliderStyleModel",
          "model_module_version": "1.5.0",
          "state": {
            "_model_module": "@jupyter-widgets/controls",
            "_model_module_version": "1.5.0",
            "_model_name": "SliderStyleModel",
            "_view_count": null,
            "_view_module": "@jupyter-widgets/base",
            "_view_module_version": "1.2.0",
            "_view_name": "StyleView",
            "description_width": "",
            "handle_color": null
          }
        },
        "9b2bf163802444fe89c19a8b86a10ac4": {
          "model_module": "@jupyter-widgets/base",
          "model_name": "LayoutModel",
          "model_module_version": "1.2.0",
          "state": {
            "_model_module": "@jupyter-widgets/base",
            "_model_module_version": "1.2.0",
            "_model_name": "LayoutModel",
            "_view_count": null,
            "_view_module": "@jupyter-widgets/base",
            "_view_module_version": "1.2.0",
            "_view_name": "LayoutView",
            "align_content": null,
            "align_items": null,
            "align_self": null,
            "border": null,
            "bottom": null,
            "display": null,
            "flex": null,
            "flex_flow": null,
            "grid_area": null,
            "grid_auto_columns": null,
            "grid_auto_flow": null,
            "grid_auto_rows": null,
            "grid_column": null,
            "grid_gap": null,
            "grid_row": null,
            "grid_template_areas": null,
            "grid_template_columns": null,
            "grid_template_rows": null,
            "height": null,
            "justify_content": null,
            "justify_items": null,
            "left": null,
            "margin": null,
            "max_height": null,
            "max_width": null,
            "min_height": null,
            "min_width": null,
            "object_fit": null,
            "object_position": null,
            "order": null,
            "overflow": null,
            "overflow_x": null,
            "overflow_y": null,
            "padding": null,
            "right": null,
            "top": null,
            "visibility": null,
            "width": null
          }
        },
        "d19dbf253e4b46fa980c6d286ec33fd1": {
          "model_module": "@jupyter-widgets/base",
          "model_name": "LayoutModel",
          "model_module_version": "1.2.0",
          "state": {
            "_model_module": "@jupyter-widgets/base",
            "_model_module_version": "1.2.0",
            "_model_name": "LayoutModel",
            "_view_count": null,
            "_view_module": "@jupyter-widgets/base",
            "_view_module_version": "1.2.0",
            "_view_name": "LayoutView",
            "align_content": null,
            "align_items": null,
            "align_self": null,
            "border": null,
            "bottom": null,
            "display": null,
            "flex": null,
            "flex_flow": null,
            "grid_area": null,
            "grid_auto_columns": null,
            "grid_auto_flow": null,
            "grid_auto_rows": null,
            "grid_column": null,
            "grid_gap": null,
            "grid_row": null,
            "grid_template_areas": null,
            "grid_template_columns": null,
            "grid_template_rows": null,
            "height": null,
            "justify_content": null,
            "justify_items": null,
            "left": null,
            "margin": null,
            "max_height": null,
            "max_width": null,
            "min_height": null,
            "min_width": null,
            "object_fit": null,
            "object_position": null,
            "order": null,
            "overflow": null,
            "overflow_x": null,
            "overflow_y": null,
            "padding": null,
            "right": null,
            "top": null,
            "visibility": null,
            "width": null
          }
        }
      }
    }
  },
  "nbformat": 4,
  "nbformat_minor": 5
}